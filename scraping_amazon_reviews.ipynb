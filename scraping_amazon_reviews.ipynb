{
 "cells": [
  {
   "cell_type": "code",
   "execution_count": 17,
   "metadata": {},
   "outputs": [],
   "source": [
    "import requests\n",
    "from bs4 import BeautifulSoup\n",
    "import pandas as pd"
   ]
  },
  {
   "cell_type": "code",
   "execution_count": 8,
   "metadata": {},
   "outputs": [],
   "source": [
    "url = \"https://www.amazon.in/New-Apple-iPhone-11-64GB/product-reviews/B08L8C1NJ3/ref=cm_cr_arp_d_paging_btm_next_2?ie=UTF8&reviewerType=all_reviews&pageNumber=2\""
   ]
  },
  {
   "cell_type": "code",
   "execution_count": 18,
   "metadata": {},
   "outputs": [],
   "source": [
    "header={'User-Agent': 'Mozilla/5.0 (Windows NT 10.0; Win64; x64) AppleWebKit/537.36 (KHTML, like Gecko) Chrome/87 Safari/537.36'}"
   ]
  },
  {
   "cell_type": "code",
   "execution_count": 19,
   "metadata": {},
   "outputs": [],
   "source": [
    "reviewlist = []"
   ]
  },
  {
   "cell_type": "code",
   "execution_count": 20,
   "metadata": {},
   "outputs": [],
   "source": [
    "def get_soup(url):\n",
    "    r = requests.get(url, headers = header)\n",
    "    soup = BeautifulSoup(r.text, 'html.parser')\n",
    "    return soup"
   ]
  },
  {
   "cell_type": "code",
   "execution_count": 21,
   "metadata": {},
   "outputs": [],
   "source": [
    "def get_reviews(soup):\n",
    "    reviews = soup.find_all('div', {'data-hook': 'review'})\n",
    "    try:\n",
    "        for item in reviews:\n",
    "            review = {\n",
    "            'product': soup.title.text.replace('Amazon.in:Customer reviews:', '').strip(),\n",
    "            'title': item.find('a', {'data-hook': 'review-title'}).text.strip(),\n",
    "            'star':  float(item.find('i', {'data-hook': 'review-star-rating'}).text.replace('out of 5 stars', '').strip()),\n",
    "            'body': item.find('span', {'data-hook': 'review-body'}).text.strip(),\n",
    "            }\n",
    "            reviewlist.append(review)\n",
    "    except:\n",
    "        pass"
   ]
  },
  {
   "cell_type": "code",
   "execution_count": 22,
   "metadata": {},
   "outputs": [
    {
     "name": "stdout",
     "output_type": "stream",
     "text": [
      "Getting page: 1\n",
      "10\n",
      "Getting page: 2\n",
      "20\n",
      "Getting page: 3\n",
      "30\n",
      "Getting page: 4\n",
      "40\n",
      "Getting page: 5\n",
      "50\n",
      "Getting page: 6\n",
      "60\n",
      "Getting page: 7\n",
      "70\n",
      "Getting page: 8\n",
      "80\n",
      "Getting page: 9\n",
      "90\n"
     ]
    }
   ],
   "source": [
    "for x in range(1,10):\n",
    "    soup = get_soup(f'https://www.amazon.in/New-Apple-iPhone-11-64GB/product-reviews/B08L8C1NJ3/ref=cm_cr_arp_d_paging_btm_next_2?ie=UTF8&reviewerType=all_reviews&pageNumber={x}')\n",
    "    print(f'Getting page: {x}')\n",
    "    get_reviews(soup)\n",
    "    print(len(reviewlist))\n",
    "    if not soup.find('li', {'class': 'a-disabled a-last'}):\n",
    "        pass\n",
    "    else:\n",
    "        break"
   ]
  },
  {
   "cell_type": "code",
   "execution_count": 28,
   "metadata": {},
   "outputs": [
    {
     "data": {
      "text/plain": [
       "{'product': 'New Apple iPhone 11 (64GB) - White',\n",
       " 'title': 'Do not buy iphone or expensive product from Amazom',\n",
       " 'star': 1.0,\n",
       " 'body': \"Please do not buy expensive product like iphone from Amazon, i had very bad exp, the charger cord was missing and had sound quality issues. Amazon initial told charger doesn't come in box and when i challenged it they asked reimburse the cord amount, but i requested a replacement, after some days they called me and informed that they dont take responsibility of missing items, and 10 day replacement policy they dont follow, you can read the email conversation attached  here where i mentioned every thing, i have the call recordings as well. At last they denied the phone replacement and even to provide the missing cord. For any damage or quality issues they said amazon is not responsible.\"}"
      ]
     },
     "execution_count": 28,
     "metadata": {},
     "output_type": "execute_result"
    }
   ],
   "source": [
    "reviewlist[0]"
   ]
  },
  {
   "cell_type": "code",
   "execution_count": 25,
   "metadata": {},
   "outputs": [
    {
     "data": {
      "text/html": [
       "<div>\n",
       "<style scoped>\n",
       "    .dataframe tbody tr th:only-of-type {\n",
       "        vertical-align: middle;\n",
       "    }\n",
       "\n",
       "    .dataframe tbody tr th {\n",
       "        vertical-align: top;\n",
       "    }\n",
       "\n",
       "    .dataframe thead th {\n",
       "        text-align: right;\n",
       "    }\n",
       "</style>\n",
       "<table border=\"1\" class=\"dataframe\">\n",
       "  <thead>\n",
       "    <tr style=\"text-align: right;\">\n",
       "      <th></th>\n",
       "      <th>product</th>\n",
       "      <th>title</th>\n",
       "      <th>star</th>\n",
       "      <th>body</th>\n",
       "    </tr>\n",
       "  </thead>\n",
       "  <tbody>\n",
       "    <tr>\n",
       "      <th>0</th>\n",
       "      <td>New Apple iPhone 11 (64GB) - White</td>\n",
       "      <td>Do not buy iphone or expensive product from Am...</td>\n",
       "      <td>1.0</td>\n",
       "      <td>Please do not buy expensive product like iphon...</td>\n",
       "    </tr>\n",
       "    <tr>\n",
       "      <th>1</th>\n",
       "      <td>New Apple iPhone 11 (64GB) - White</td>\n",
       "      <td>Don’t buy it from this seller</td>\n",
       "      <td>1.0</td>\n",
       "      <td>Bought the mobile from appario retail ltd. Mob...</td>\n",
       "    </tr>\n",
       "    <tr>\n",
       "      <th>2</th>\n",
       "      <td>New Apple iPhone 11 (64GB) - White</td>\n",
       "      <td>Solid premium phone from Apple</td>\n",
       "      <td>5.0</td>\n",
       "      <td>Awesome Phone. Nice upgrade from iPhone 6s to ...</td>\n",
       "    </tr>\n",
       "    <tr>\n",
       "      <th>3</th>\n",
       "      <td>New Apple iPhone 11 (64GB) - White</td>\n",
       "      <td>GOT CHEATED . ITS A SCAM. AMAZON FIX THIS</td>\n",
       "      <td>1.0</td>\n",
       "      <td>This is a big scam. I received the iphone 11 y...</td>\n",
       "    </tr>\n",
       "    <tr>\n",
       "      <th>4</th>\n",
       "      <td>New Apple iPhone 11 (64GB) - White</td>\n",
       "      <td>Worst Experience Ever.!</td>\n",
       "      <td>1.0</td>\n",
       "      <td>My Phone is Producing Too Much Heat Even Didn’...</td>\n",
       "    </tr>\n",
       "    <tr>\n",
       "      <th>...</th>\n",
       "      <td>...</td>\n",
       "      <td>...</td>\n",
       "      <td>...</td>\n",
       "      <td>...</td>\n",
       "    </tr>\n",
       "    <tr>\n",
       "      <th>85</th>\n",
       "      <td>New Apple iPhone 11 (64GB) - White</td>\n",
       "      <td>Disappointed with amazon</td>\n",
       "      <td>5.0</td>\n",
       "      <td>Phone is great but I am really disappointed by...</td>\n",
       "    </tr>\n",
       "    <tr>\n",
       "      <th>86</th>\n",
       "      <td>New Apple iPhone 11 (64GB) - White</td>\n",
       "      <td>Don't Buy from amazon they are selling refurbi...</td>\n",
       "      <td>1.0</td>\n",
       "      <td>Got the phoneWithin 10 days it started randoml...</td>\n",
       "    </tr>\n",
       "    <tr>\n",
       "      <th>87</th>\n",
       "      <td>New Apple iPhone 11 (64GB) - White</td>\n",
       "      <td>Defective battery</td>\n",
       "      <td>4.0</td>\n",
       "      <td>Battery is defectiveAfter charging 100per the ...</td>\n",
       "    </tr>\n",
       "    <tr>\n",
       "      <th>88</th>\n",
       "      <td>New Apple iPhone 11 (64GB) - White</td>\n",
       "      <td>Refurbished</td>\n",
       "      <td>1.0</td>\n",
       "      <td>Your browser does not support HTML5 video.\\n\\n...</td>\n",
       "    </tr>\n",
       "    <tr>\n",
       "      <th>89</th>\n",
       "      <td>New Apple iPhone 11 (64GB) - White</td>\n",
       "      <td>The best you can get!</td>\n",
       "      <td>5.0</td>\n",
       "      <td>It’s just beautiful. The iOS is so fluid and s...</td>\n",
       "    </tr>\n",
       "  </tbody>\n",
       "</table>\n",
       "<p>90 rows × 4 columns</p>\n",
       "</div>"
      ],
      "text/plain": [
       "                               product  \\\n",
       "0   New Apple iPhone 11 (64GB) - White   \n",
       "1   New Apple iPhone 11 (64GB) - White   \n",
       "2   New Apple iPhone 11 (64GB) - White   \n",
       "3   New Apple iPhone 11 (64GB) - White   \n",
       "4   New Apple iPhone 11 (64GB) - White   \n",
       "..                                 ...   \n",
       "85  New Apple iPhone 11 (64GB) - White   \n",
       "86  New Apple iPhone 11 (64GB) - White   \n",
       "87  New Apple iPhone 11 (64GB) - White   \n",
       "88  New Apple iPhone 11 (64GB) - White   \n",
       "89  New Apple iPhone 11 (64GB) - White   \n",
       "\n",
       "                                                title  star  \\\n",
       "0   Do not buy iphone or expensive product from Am...   1.0   \n",
       "1                       Don’t buy it from this seller   1.0   \n",
       "2                      Solid premium phone from Apple   5.0   \n",
       "3           GOT CHEATED . ITS A SCAM. AMAZON FIX THIS   1.0   \n",
       "4                             Worst Experience Ever.!   1.0   \n",
       "..                                                ...   ...   \n",
       "85                           Disappointed with amazon   5.0   \n",
       "86  Don't Buy from amazon they are selling refurbi...   1.0   \n",
       "87                                  Defective battery   4.0   \n",
       "88                                        Refurbished   1.0   \n",
       "89                              The best you can get!   5.0   \n",
       "\n",
       "                                                 body  \n",
       "0   Please do not buy expensive product like iphon...  \n",
       "1   Bought the mobile from appario retail ltd. Mob...  \n",
       "2   Awesome Phone. Nice upgrade from iPhone 6s to ...  \n",
       "3   This is a big scam. I received the iphone 11 y...  \n",
       "4   My Phone is Producing Too Much Heat Even Didn’...  \n",
       "..                                                ...  \n",
       "85  Phone is great but I am really disappointed by...  \n",
       "86  Got the phoneWithin 10 days it started randoml...  \n",
       "87  Battery is defectiveAfter charging 100per the ...  \n",
       "88  Your browser does not support HTML5 video.\\n\\n...  \n",
       "89  It’s just beautiful. The iOS is so fluid and s...  \n",
       "\n",
       "[90 rows x 4 columns]"
      ]
     },
     "execution_count": 25,
     "metadata": {},
     "output_type": "execute_result"
    }
   ],
   "source": [
    "df = pd.DataFrame(reviewlist)\n",
    "df"
   ]
  },
  {
   "cell_type": "code",
   "execution_count": 29,
   "metadata": {},
   "outputs": [],
   "source": [
    "df['star'] = df['star'].astype(int)"
   ]
  },
  {
   "cell_type": "code",
   "execution_count": 30,
   "metadata": {},
   "outputs": [
    {
     "data": {
      "text/html": [
       "<div>\n",
       "<style scoped>\n",
       "    .dataframe tbody tr th:only-of-type {\n",
       "        vertical-align: middle;\n",
       "    }\n",
       "\n",
       "    .dataframe tbody tr th {\n",
       "        vertical-align: top;\n",
       "    }\n",
       "\n",
       "    .dataframe thead th {\n",
       "        text-align: right;\n",
       "    }\n",
       "</style>\n",
       "<table border=\"1\" class=\"dataframe\">\n",
       "  <thead>\n",
       "    <tr style=\"text-align: right;\">\n",
       "      <th></th>\n",
       "      <th>product</th>\n",
       "      <th>title</th>\n",
       "      <th>star</th>\n",
       "      <th>body</th>\n",
       "    </tr>\n",
       "  </thead>\n",
       "  <tbody>\n",
       "    <tr>\n",
       "      <th>0</th>\n",
       "      <td>New Apple iPhone 11 (64GB) - White</td>\n",
       "      <td>Do not buy iphone or expensive product from Am...</td>\n",
       "      <td>1</td>\n",
       "      <td>Please do not buy expensive product like iphon...</td>\n",
       "    </tr>\n",
       "    <tr>\n",
       "      <th>1</th>\n",
       "      <td>New Apple iPhone 11 (64GB) - White</td>\n",
       "      <td>Don’t buy it from this seller</td>\n",
       "      <td>1</td>\n",
       "      <td>Bought the mobile from appario retail ltd. Mob...</td>\n",
       "    </tr>\n",
       "    <tr>\n",
       "      <th>2</th>\n",
       "      <td>New Apple iPhone 11 (64GB) - White</td>\n",
       "      <td>Solid premium phone from Apple</td>\n",
       "      <td>5</td>\n",
       "      <td>Awesome Phone. Nice upgrade from iPhone 6s to ...</td>\n",
       "    </tr>\n",
       "    <tr>\n",
       "      <th>3</th>\n",
       "      <td>New Apple iPhone 11 (64GB) - White</td>\n",
       "      <td>GOT CHEATED . ITS A SCAM. AMAZON FIX THIS</td>\n",
       "      <td>1</td>\n",
       "      <td>This is a big scam. I received the iphone 11 y...</td>\n",
       "    </tr>\n",
       "    <tr>\n",
       "      <th>4</th>\n",
       "      <td>New Apple iPhone 11 (64GB) - White</td>\n",
       "      <td>Worst Experience Ever.!</td>\n",
       "      <td>1</td>\n",
       "      <td>My Phone is Producing Too Much Heat Even Didn’...</td>\n",
       "    </tr>\n",
       "  </tbody>\n",
       "</table>\n",
       "</div>"
      ],
      "text/plain": [
       "                              product  \\\n",
       "0  New Apple iPhone 11 (64GB) - White   \n",
       "1  New Apple iPhone 11 (64GB) - White   \n",
       "2  New Apple iPhone 11 (64GB) - White   \n",
       "3  New Apple iPhone 11 (64GB) - White   \n",
       "4  New Apple iPhone 11 (64GB) - White   \n",
       "\n",
       "                                               title  star  \\\n",
       "0  Do not buy iphone or expensive product from Am...     1   \n",
       "1                      Don’t buy it from this seller     1   \n",
       "2                     Solid premium phone from Apple     5   \n",
       "3          GOT CHEATED . ITS A SCAM. AMAZON FIX THIS     1   \n",
       "4                            Worst Experience Ever.!     1   \n",
       "\n",
       "                                                body  \n",
       "0  Please do not buy expensive product like iphon...  \n",
       "1  Bought the mobile from appario retail ltd. Mob...  \n",
       "2  Awesome Phone. Nice upgrade from iPhone 6s to ...  \n",
       "3  This is a big scam. I received the iphone 11 y...  \n",
       "4  My Phone is Producing Too Much Heat Even Didn’...  "
      ]
     },
     "execution_count": 30,
     "metadata": {},
     "output_type": "execute_result"
    }
   ],
   "source": [
    "df.head()"
   ]
  },
  {
   "cell_type": "code",
   "execution_count": 32,
   "metadata": {},
   "outputs": [],
   "source": [
    "df.to_csv('scraped_i_phone_11_reviews.csv')"
   ]
  },
  {
   "cell_type": "code",
   "execution_count": null,
   "metadata": {},
   "outputs": [],
   "source": []
  }
 ],
 "metadata": {
  "kernelspec": {
   "display_name": "Python 3",
   "language": "python",
   "name": "python3"
  },
  "language_info": {
   "codemirror_mode": {
    "name": "ipython",
    "version": 3
   },
   "file_extension": ".py",
   "mimetype": "text/x-python",
   "name": "python",
   "nbconvert_exporter": "python",
   "pygments_lexer": "ipython3",
   "version": "3.8.1"
  }
 },
 "nbformat": 4,
 "nbformat_minor": 4
}
