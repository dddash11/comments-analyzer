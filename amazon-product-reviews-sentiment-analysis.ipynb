{
 "cells": [
  {
   "cell_type": "markdown",
   "metadata": {},
   "source": [
    "# Amazon product review opinions mining"
   ]
  },
  {
   "cell_type": "markdown",
   "metadata": {},
   "source": [
    "### Import all the packges required"
   ]
  },
  {
   "cell_type": "code",
   "execution_count": 1,
   "metadata": {},
   "outputs": [],
   "source": [
    "from keras.models import Model, Sequential\n",
    "from keras.preprocessing import text, sequence\n",
    "from keras.callbacks import EarlyStopping, ModelCheckpoint\n",
    "from keras import activations, initializers, regularizers, constraints\n",
    "from keras.utils.conv_utils import conv_output_length\n",
    "from keras.layers import Dense, Input, Dropout, LSTM, Activation\n",
    "from keras.layers.embeddings import Embedding\n",
    "from keras.initializers import glorot_uniform\n",
    "from keras.preprocessing import text, sequence\n",
    "from keras.regularizers import l2\n",
    "from keras.constraints import maxnorm\n",
    "from sklearn.model_selection import train_test_split\n",
    "import numpy as np \n",
    "import pandas as pd \n",
    "import os\n",
    "np.random.seed(0)\n",
    "import matplotlib.pyplot as plt\n",
    "import seaborn as sns\n",
    "from wordcloud import WordCloud\n",
    "from matplotlib import rcParams\n",
    "from collections import Counter\n"
   ]
  },
  {
   "cell_type": "markdown",
   "metadata": {},
   "source": [
    "#### Import the pretrained word embeddings"
   ]
  },
  {
   "cell_type": "code",
   "execution_count": 2,
   "metadata": {},
   "outputs": [],
   "source": [
    "#!kaggle datasets download -d watts2/glove6b50dtxt\n",
    "# download glove6b50dtxt from kaggle website.\n",
    "#https://www.kaggle.com/watts2/glove6b50dtxt"
   ]
  },
  {
   "cell_type": "markdown",
   "metadata": {},
   "source": [
    "### Feature Engineering"
   ]
  },
  {
   "cell_type": "code",
   "execution_count": 3,
   "metadata": {
    "scrolled": true
   },
   "outputs": [
    {
     "name": "stdout",
     "output_type": "stream",
     "text": [
      "<class 'pandas.core.frame.DataFrame'>\n",
      "RangeIndex: 17248 entries, 0 to 17247\n",
      "Data columns (total 6 columns):\n",
      " #   Column        Non-Null Count  Dtype \n",
      "---  ------        --------------  ----- \n",
      " 0   Unnamed: 0    17248 non-null  int64 \n",
      " 1   mobile_names  17248 non-null  object\n",
      " 2   asin          17248 non-null  object\n",
      " 3   title         17248 non-null  object\n",
      " 4   body          17248 non-null  object\n",
      " 5   star          17248 non-null  int64 \n",
      "dtypes: int64(2), object(4)\n",
      "memory usage: 808.6+ KB\n"
     ]
    },
    {
     "data": {
      "text/plain": [
       "Index(['Unnamed: 0', 'mobile_names', 'asin', 'title', 'body', 'star'], dtype='object')"
      ]
     },
     "execution_count": 3,
     "metadata": {},
     "output_type": "execute_result"
    }
   ],
   "source": [
    "df=pd.read_csv('phone_reviews.csv')\n",
    "df.info()\n",
    "df.columns"
   ]
  },
  {
   "cell_type": "code",
   "execution_count": 4,
   "metadata": {},
   "outputs": [
    {
     "data": {
      "text/html": [
       "<div>\n",
       "<style scoped>\n",
       "    .dataframe tbody tr th:only-of-type {\n",
       "        vertical-align: middle;\n",
       "    }\n",
       "\n",
       "    .dataframe tbody tr th {\n",
       "        vertical-align: top;\n",
       "    }\n",
       "\n",
       "    .dataframe thead th {\n",
       "        text-align: right;\n",
       "    }\n",
       "</style>\n",
       "<table border=\"1\" class=\"dataframe\">\n",
       "  <thead>\n",
       "    <tr style=\"text-align: right;\">\n",
       "      <th></th>\n",
       "      <th>Unnamed: 0</th>\n",
       "      <th>mobile_names</th>\n",
       "      <th>asin</th>\n",
       "      <th>title</th>\n",
       "      <th>body</th>\n",
       "      <th>star</th>\n",
       "    </tr>\n",
       "  </thead>\n",
       "  <tbody>\n",
       "    <tr>\n",
       "      <th>0</th>\n",
       "      <td>0</td>\n",
       "      <td>Samsung Galaxy M21 (Midnight Blue, 4GB RAM, 64...</td>\n",
       "      <td>B07HGJJ559</td>\n",
       "      <td>\\nvalue money go it\\n</td>\n",
       "      <td>update 15082020never give chance regret go ah...</td>\n",
       "      <td>4</td>\n",
       "    </tr>\n",
       "    <tr>\n",
       "      <th>1</th>\n",
       "      <td>1</td>\n",
       "      <td>Samsung Galaxy M21 (Midnight Blue, 4GB RAM, 64...</td>\n",
       "      <td>B07HGJJ559</td>\n",
       "      <td>\\n\\n</td>\n",
       "      <td>title obviously monsterand good performance</td>\n",
       "      <td>5</td>\n",
       "    </tr>\n",
       "    <tr>\n",
       "      <th>2</th>\n",
       "      <td>2</td>\n",
       "      <td>Samsung Galaxy M21 (Midnight Blue, 4GB RAM, 64...</td>\n",
       "      <td>B07HGJJ559</td>\n",
       "      <td>\\nbest budget phone india\\n</td>\n",
       "      <td>brilliant camera huge battery life brilliant ...</td>\n",
       "      <td>5</td>\n",
       "    </tr>\n",
       "    <tr>\n",
       "      <th>3</th>\n",
       "      <td>3</td>\n",
       "      <td>Samsung Galaxy M21 (Midnight Blue, 4GB RAM, 64...</td>\n",
       "      <td>B07HGJJ559</td>\n",
       "      <td>\\nbattery life upto mark\\n</td>\n",
       "      <td>writing review using 6 daysi bought sumsung p...</td>\n",
       "      <td>3</td>\n",
       "    </tr>\n",
       "    <tr>\n",
       "      <th>4</th>\n",
       "      <td>4</td>\n",
       "      <td>Samsung Galaxy M21 (Midnight Blue, 4GB RAM, 64...</td>\n",
       "      <td>B07HGJJ559</td>\n",
       "      <td>\\nfeeling cheated\\n</td>\n",
       "      <td>defective product received gets 8 12 hours ch...</td>\n",
       "      <td>1</td>\n",
       "    </tr>\n",
       "  </tbody>\n",
       "</table>\n",
       "</div>"
      ],
      "text/plain": [
       "   Unnamed: 0                                       mobile_names        asin  \\\n",
       "0           0  Samsung Galaxy M21 (Midnight Blue, 4GB RAM, 64...  B07HGJJ559   \n",
       "1           1  Samsung Galaxy M21 (Midnight Blue, 4GB RAM, 64...  B07HGJJ559   \n",
       "2           2  Samsung Galaxy M21 (Midnight Blue, 4GB RAM, 64...  B07HGJJ559   \n",
       "3           3  Samsung Galaxy M21 (Midnight Blue, 4GB RAM, 64...  B07HGJJ559   \n",
       "4           4  Samsung Galaxy M21 (Midnight Blue, 4GB RAM, 64...  B07HGJJ559   \n",
       "\n",
       "                         title  \\\n",
       "0        \\nvalue money go it\\n   \n",
       "1                         \\n\\n   \n",
       "2  \\nbest budget phone india\\n   \n",
       "3   \\nbattery life upto mark\\n   \n",
       "4          \\nfeeling cheated\\n   \n",
       "\n",
       "                                                body  star  \n",
       "0   update 15082020never give chance regret go ah...     4  \n",
       "1        title obviously monsterand good performance     5  \n",
       "2   brilliant camera huge battery life brilliant ...     5  \n",
       "3   writing review using 6 daysi bought sumsung p...     3  \n",
       "4   defective product received gets 8 12 hours ch...     1  "
      ]
     },
     "execution_count": 4,
     "metadata": {},
     "output_type": "execute_result"
    }
   ],
   "source": [
    "df.head()"
   ]
  },
  {
   "cell_type": "code",
   "execution_count": 5,
   "metadata": {},
   "outputs": [],
   "source": [
    "df['star']-=1\n",
    "x=df['body']\n",
    "y=df['star']"
   ]
  },
  {
   "cell_type": "code",
   "execution_count": 6,
   "metadata": {},
   "outputs": [
    {
     "data": {
      "text/plain": [
       "0        3\n",
       "1        4\n",
       "2        4\n",
       "3        2\n",
       "4        0\n",
       "        ..\n",
       "17243    3\n",
       "17244    4\n",
       "17245    3\n",
       "17246    1\n",
       "17247    0\n",
       "Name: star, Length: 17248, dtype: int64"
      ]
     },
     "execution_count": 6,
     "metadata": {},
     "output_type": "execute_result"
    }
   ],
   "source": [
    "df['star']"
   ]
  },
  {
   "cell_type": "code",
   "execution_count": 7,
   "metadata": {},
   "outputs": [
    {
     "data": {
      "text/html": [
       "<div>\n",
       "<style scoped>\n",
       "    .dataframe tbody tr th:only-of-type {\n",
       "        vertical-align: middle;\n",
       "    }\n",
       "\n",
       "    .dataframe tbody tr th {\n",
       "        vertical-align: top;\n",
       "    }\n",
       "\n",
       "    .dataframe thead th {\n",
       "        text-align: right;\n",
       "    }\n",
       "</style>\n",
       "<table border=\"1\" class=\"dataframe\">\n",
       "  <thead>\n",
       "    <tr style=\"text-align: right;\">\n",
       "      <th></th>\n",
       "      <th>Unnamed: 0</th>\n",
       "      <th>mobile_names</th>\n",
       "      <th>asin</th>\n",
       "      <th>title</th>\n",
       "      <th>body</th>\n",
       "      <th>star</th>\n",
       "    </tr>\n",
       "  </thead>\n",
       "  <tbody>\n",
       "    <tr>\n",
       "      <th>0</th>\n",
       "      <td>0</td>\n",
       "      <td>Samsung Galaxy M21 (Midnight Blue, 4GB RAM, 64...</td>\n",
       "      <td>B07HGJJ559</td>\n",
       "      <td>\\nvalue money go it\\n</td>\n",
       "      <td>update 15082020never give chance regret go ah...</td>\n",
       "      <td>3</td>\n",
       "    </tr>\n",
       "    <tr>\n",
       "      <th>1</th>\n",
       "      <td>1</td>\n",
       "      <td>Samsung Galaxy M21 (Midnight Blue, 4GB RAM, 64...</td>\n",
       "      <td>B07HGJJ559</td>\n",
       "      <td>\\n\\n</td>\n",
       "      <td>title obviously monsterand good performance</td>\n",
       "      <td>4</td>\n",
       "    </tr>\n",
       "    <tr>\n",
       "      <th>2</th>\n",
       "      <td>2</td>\n",
       "      <td>Samsung Galaxy M21 (Midnight Blue, 4GB RAM, 64...</td>\n",
       "      <td>B07HGJJ559</td>\n",
       "      <td>\\nbest budget phone india\\n</td>\n",
       "      <td>brilliant camera huge battery life brilliant ...</td>\n",
       "      <td>4</td>\n",
       "    </tr>\n",
       "    <tr>\n",
       "      <th>3</th>\n",
       "      <td>3</td>\n",
       "      <td>Samsung Galaxy M21 (Midnight Blue, 4GB RAM, 64...</td>\n",
       "      <td>B07HGJJ559</td>\n",
       "      <td>\\nbattery life upto mark\\n</td>\n",
       "      <td>writing review using 6 daysi bought sumsung p...</td>\n",
       "      <td>2</td>\n",
       "    </tr>\n",
       "    <tr>\n",
       "      <th>4</th>\n",
       "      <td>4</td>\n",
       "      <td>Samsung Galaxy M21 (Midnight Blue, 4GB RAM, 64...</td>\n",
       "      <td>B07HGJJ559</td>\n",
       "      <td>\\nfeeling cheated\\n</td>\n",
       "      <td>defective product received gets 8 12 hours ch...</td>\n",
       "      <td>0</td>\n",
       "    </tr>\n",
       "  </tbody>\n",
       "</table>\n",
       "</div>"
      ],
      "text/plain": [
       "   Unnamed: 0                                       mobile_names        asin  \\\n",
       "0           0  Samsung Galaxy M21 (Midnight Blue, 4GB RAM, 64...  B07HGJJ559   \n",
       "1           1  Samsung Galaxy M21 (Midnight Blue, 4GB RAM, 64...  B07HGJJ559   \n",
       "2           2  Samsung Galaxy M21 (Midnight Blue, 4GB RAM, 64...  B07HGJJ559   \n",
       "3           3  Samsung Galaxy M21 (Midnight Blue, 4GB RAM, 64...  B07HGJJ559   \n",
       "4           4  Samsung Galaxy M21 (Midnight Blue, 4GB RAM, 64...  B07HGJJ559   \n",
       "\n",
       "                         title  \\\n",
       "0        \\nvalue money go it\\n   \n",
       "1                         \\n\\n   \n",
       "2  \\nbest budget phone india\\n   \n",
       "3   \\nbattery life upto mark\\n   \n",
       "4          \\nfeeling cheated\\n   \n",
       "\n",
       "                                                body  star  \n",
       "0   update 15082020never give chance regret go ah...     3  \n",
       "1        title obviously monsterand good performance     4  \n",
       "2   brilliant camera huge battery life brilliant ...     4  \n",
       "3   writing review using 6 daysi bought sumsung p...     2  \n",
       "4   defective product received gets 8 12 hours ch...     0  "
      ]
     },
     "execution_count": 7,
     "metadata": {},
     "output_type": "execute_result"
    }
   ],
   "source": [
    "df.head()"
   ]
  },
  {
   "cell_type": "markdown",
   "metadata": {},
   "source": [
    "Split the data of training and evaluating the model"
   ]
  },
  {
   "cell_type": "code",
   "execution_count": 8,
   "metadata": {},
   "outputs": [],
   "source": [
    "X_train, X_test, y_train, y_test = train_test_split(x, y, test_size=0.20, random_state=42)"
   ]
  },
  {
   "cell_type": "code",
   "execution_count": 9,
   "metadata": {},
   "outputs": [
    {
     "data": {
      "text/plain": [
       "16828                  awesome phone great camera quality \n",
       "5421      samsung performance seems launched without pr...\n",
       "15599     4th mi phone 3 years earlier ones goodbut ext...\n",
       "1598      weak signal antennaflash wide angle camera do...\n",
       "15949     side bottom border area keyboard keys working...\n",
       "                               ...                        \n",
       "11284                   first sell first order mobile nice\n",
       "11964     m31 looks identical galaxy m30s new galaxy m3...\n",
       "5390      got dad writing review months use great displ...\n",
       "860       phone delivered without sim ejector pin outer...\n",
       "15795     working pls dont buy phone listen carefully a...\n",
       "Name: body, Length: 13798, dtype: object"
      ]
     },
     "execution_count": 9,
     "metadata": {},
     "output_type": "execute_result"
    }
   ],
   "source": [
    "X_train"
   ]
  },
  {
   "cell_type": "code",
   "execution_count": 10,
   "metadata": {},
   "outputs": [],
   "source": [
    "sentence_lengths=X_train.apply(lambda x:len(x.split()))"
   ]
  },
  {
   "cell_type": "code",
   "execution_count": 11,
   "metadata": {},
   "outputs": [
    {
     "data": {
      "text/plain": [
       "16828      5\n",
       "5421      42\n",
       "15599     31\n",
       "1598      33\n",
       "15949    108\n",
       "        ... \n",
       "11284      6\n",
       "11964     62\n",
       "5390      14\n",
       "860       14\n",
       "15795     50\n",
       "Name: body, Length: 13798, dtype: int64"
      ]
     },
     "execution_count": 11,
     "metadata": {},
     "output_type": "execute_result"
    }
   ],
   "source": [
    "sentence_lengths"
   ]
  },
  {
   "cell_type": "code",
   "execution_count": 12,
   "metadata": {},
   "outputs": [
    {
     "data": {
      "text/plain": [
       "count    13798.000000\n",
       "mean        47.114727\n",
       "std         54.091311\n",
       "min          0.000000\n",
       "25%         16.000000\n",
       "50%         33.000000\n",
       "75%         56.000000\n",
       "max        778.000000\n",
       "Name: body, dtype: float64"
      ]
     },
     "execution_count": 12,
     "metadata": {},
     "output_type": "execute_result"
    }
   ],
   "source": [
    "sentence_lengths.describe()"
   ]
  },
  {
   "cell_type": "code",
   "execution_count": 13,
   "metadata": {},
   "outputs": [
    {
     "data": {
      "text/plain": [
       "16828      5\n",
       "5421      42\n",
       "15599     31\n",
       "1598      33\n",
       "15949    108\n",
       "Name: body, dtype: int64"
      ]
     },
     "execution_count": 13,
     "metadata": {},
     "output_type": "execute_result"
    }
   ],
   "source": [
    "sentence_lengths.head()"
   ]
  },
  {
   "cell_type": "markdown",
   "metadata": {},
   "source": [
    "## Train models"
   ]
  },
  {
   "cell_type": "markdown",
   "metadata": {},
   "source": [
    "### 1. LSTM (Long Short Term Memory) Recurrent Neural Network"
   ]
  },
  {
   "cell_type": "markdown",
   "metadata": {},
   "source": [
    "### Hyperparameters"
   ]
  },
  {
   "cell_type": "code",
   "execution_count": 14,
   "metadata": {},
   "outputs": [],
   "source": [
    "maxlen=100\n",
    "loss='categorical_crossentropy'\n",
    "batch_size=32\n",
    "optimizer='adam'\n",
    "epochs=10"
   ]
  },
  {
   "cell_type": "code",
   "execution_count": 15,
   "metadata": {},
   "outputs": [],
   "source": [
    "#this code is imported from coursera sequential models assignment\n",
    "def read_glove_vecs(glove_file):\n",
    "    with open(glove_file, 'r',encoding='UTF-8') as f:\n",
    "        words = set()\n",
    "        word_to_vec_map = {}\n",
    "        for line in f:\n",
    "            line = line.strip().split()\n",
    "            curr_word = line[0]\n",
    "            words.add(curr_word)\n",
    "            word_to_vec_map[curr_word] = np.array(line[1:], dtype=np.float64)\n",
    "        \n",
    "        i = 1\n",
    "        words_to_index = {}\n",
    "        index_to_words = {}\n",
    "        for w in sorted(words):\n",
    "            words_to_index[w] = i\n",
    "            index_to_words[i] = w\n",
    "            i = i + 1\n",
    "    return words_to_index, index_to_words, word_to_vec_map\n",
    "\n",
    "#convert number to one_hot vector\n",
    "def convert_to_one_hot(Y, C):\n",
    "    Y = np.eye(C)[Y.reshape(-1)]\n",
    "    return Y\n",
    "\n",
    "#sentences to word indices\n",
    "def sentences_to_indices(X, word_to_index):  \n",
    "    m = X.shape[0]                                   # number of training examples\n",
    "    X_indices = np.zeros(m)\n",
    "    X_indices=[]\n",
    "    for i in range(m):                               # loop over training examples\n",
    "\n",
    "        # Convert the ith training sentence in lower case and split is into words. You should get a list of words.\n",
    "        sentence_words = [word.lower().replace('\\t', '') for word in X[i].split(' ') if word.replace('\\t', '') != '']\n",
    "        #sentence_words=X[i].split(' ')\n",
    "        # Initialize j to 0\n",
    "        j=0\n",
    "        # Loop over the words of sentence_words\n",
    "        li=np.zeros(len(sentence_words))\n",
    "        for w in sentence_words:\n",
    "            # Set the (i,j)th entry of X_indices to the index of the correct word.\n",
    "            try:\n",
    "                li[j] = word_to_index[w]\n",
    "            except:\n",
    "               # print(w)\n",
    "                li[j]= 0\n",
    "            # Increment j to j + 1\n",
    "            j += 1\n",
    "        X_indices.append(li)    \n",
    "    X_indices=np.array(X_indices)\n",
    "    return X_indices\n",
    "\n",
    "def pretrained_embedding_layer(word_to_vec_map, word_to_index):\n",
    "    vocab_len = len(word_to_index) + 1              \n",
    "    emb_dim = word_to_vec_map[\"cucumber\"].shape[0]      # define dimensionality of your GloVe word vectors (= 50)\n",
    "    # Initialize the embedding matrix as a numpy array of zeros of shape (vocab_len, dimensions of word vectors = emb_dim)\n",
    "    emb_matrix = np.zeros((vocab_len, emb_dim))\n",
    "    \n",
    "    # Set each row \"index\" of the embedding matrix to be the word vector representation of the \"index\"th word of the vocabulary\n",
    "    for word, index in word_to_index.items():\n",
    "        emb_matrix[index, :] = word_to_vec_map[word]\n",
    "\n",
    "    # Define Keras embedding layer with the correct output/input sizes, make it trainable. Use Embedding(...). Make sure to set trainable=False. \n",
    "    embedding_layer = Embedding(vocab_len, emb_dim, trainable = False)\n",
    "\n",
    "    # Build the embedding layer, it is required before setting the weights of the embedding layer. \n",
    "    embedding_layer.build((None,)) # Do not modify the \"None\".  This line of code is complete as-is.\n",
    "    \n",
    "    # Set the weights of the embedding layer to the embedding matrix. Your layer is now pretrained.\n",
    "    embedding_layer.set_weights([emb_matrix])\n",
    "    \n",
    "    return embedding_layer"
   ]
  },
  {
   "cell_type": "code",
   "execution_count": 16,
   "metadata": {},
   "outputs": [
    {
     "name": "stdout",
     "output_type": "stream",
     "text": [
      "the index of good in the vocabulary is 164328\n",
      "the 567th word in the vocabulary is ,6\n"
     ]
    }
   ],
   "source": [
    "word_to_index, index_to_word, word_to_vec_map = read_glove_vecs('glove.6B.50d.txt')\n",
    "#test\n",
    "word = \"good\"\n",
    "idx = 567\n",
    "print(\"the index of\", word, \"in the vocabulary is\", word_to_index[word])\n",
    "print(\"the\", str(idx) + \"th word in the vocabulary is\", index_to_word[idx])"
   ]
  },
  {
   "cell_type": "code",
   "execution_count": 17,
   "metadata": {},
   "outputs": [
    {
     "name": "stdout",
     "output_type": "stream",
     "text": [
      "X1 = ['the phone is good' 'very bad' 'no star rating']\n",
      "X1_indices =\n",
      " [array([357266., 283483., 192973., 164328.]) array([377946.,  65963.])\n",
      " array([262350., 341678., 301038.])]\n"
     ]
    }
   ],
   "source": [
    "X1 = np.array([\"the phone is good\", \"very bad\", \"no star rating\"])\n",
    "X1_indices = sentences_to_indices(X1,word_to_index)\n",
    "print(\"X1 =\", X1)\n",
    "print(\"X1_indices =\\n\", X1_indices)"
   ]
  },
  {
   "cell_type": "code",
   "execution_count": 18,
   "metadata": {},
   "outputs": [
    {
     "name": "stdout",
     "output_type": "stream",
     "text": [
      "weights[0][1][3] = -0.3403\n"
     ]
    }
   ],
   "source": [
    "embedding_layer = pretrained_embedding_layer(word_to_vec_map, word_to_index)\n",
    "print(\"weights[0][1][3] =\", embedding_layer.get_weights()[0][1][3])"
   ]
  },
  {
   "cell_type": "markdown",
   "metadata": {},
   "source": [
    "Building the Model of 2 layers of LSTM"
   ]
  },
  {
   "cell_type": "code",
   "execution_count": 19,
   "metadata": {},
   "outputs": [],
   "source": [
    "def lstmModel(input_shape, word_to_vec_map, word_to_index):\n",
    "    \n",
    "    sentence_indices = Input(shape=input_shape, dtype='int32')\n",
    "    \n",
    "    # Create the embedding layer pretrained with GloVe Vectors (≈1 line)\n",
    "    embedding_layer = pretrained_embedding_layer(word_to_vec_map, word_to_index)\n",
    "    \n",
    "    # Propagate sentence_indices through your embedding layer, you get back the embeddings\n",
    "    embeddings = embedding_layer(sentence_indices)   \n",
    "    \n",
    "    # Propagate the embeddings through an LSTM layer with 128-dimensional hidden state\n",
    "    # Be careful, the returned output should be a batch of sequences.\n",
    "    X = LSTM(128, return_sequences=True)(embeddings)\n",
    "    # Add dropout with a probability of 0.5\n",
    "    X = Dropout(0.5)(X)\n",
    "    # Propagate X trough another LSTM layer with 128-dimensional hidden state\n",
    "    # Be careful, the returned output should be a single hidden state, not a batch of sequences.\n",
    "    X = LSTM(128, return_sequences=False)(X)\n",
    "    # Add dropout with a probability of 0.5\n",
    "    X = Dropout(0.5)(X)\n",
    "    # Propagate X through a Dense layer with softmax activation to get back a batch of 5-dimensional vectors.\n",
    "    X = Dense(5, activation=None)(X)\n",
    "    # Add a softmax activation\n",
    "    X = Activation('softmax')(X)\n",
    "    \n",
    "    # Create Model instance which converts sentence_indices into X.\n",
    "    model = Model(inputs=[sentence_indices], outputs=X)\n",
    "    \n",
    "    return model"
   ]
  },
  {
   "cell_type": "code",
   "execution_count": 20,
   "metadata": {},
   "outputs": [
    {
     "name": "stdout",
     "output_type": "stream",
     "text": [
      "Model: \"model\"\n",
      "_________________________________________________________________\n",
      "Layer (type)                 Output Shape              Param #   \n",
      "=================================================================\n",
      "input_1 (InputLayer)         [(None, 100)]             0         \n",
      "_________________________________________________________________\n",
      "embedding_1 (Embedding)      (None, 100, 50)           20000050  \n",
      "_________________________________________________________________\n",
      "lstm (LSTM)                  (None, 100, 128)          91648     \n",
      "_________________________________________________________________\n",
      "dropout (Dropout)            (None, 100, 128)          0         \n",
      "_________________________________________________________________\n",
      "lstm_1 (LSTM)                (None, 128)               131584    \n",
      "_________________________________________________________________\n",
      "dropout_1 (Dropout)          (None, 128)               0         \n",
      "_________________________________________________________________\n",
      "dense (Dense)                (None, 5)                 645       \n",
      "_________________________________________________________________\n",
      "activation (Activation)      (None, 5)                 0         \n",
      "=================================================================\n",
      "Total params: 20,223,927\n",
      "Trainable params: 223,877\n",
      "Non-trainable params: 20,000,050\n",
      "_________________________________________________________________\n"
     ]
    }
   ],
   "source": [
    "model = lstmModel((100,), word_to_vec_map, word_to_index)\n",
    "model.summary()"
   ]
  },
  {
   "cell_type": "code",
   "execution_count": 21,
   "metadata": {},
   "outputs": [],
   "source": [
    "model.compile(loss=loss, optimizer=optimizer, metrics=['accuracy'])"
   ]
  },
  {
   "cell_type": "markdown",
   "metadata": {},
   "source": [
    "**Prepare the data for training**"
   ]
  },
  {
   "cell_type": "code",
   "execution_count": 22,
   "metadata": {
    "tags": []
   },
   "outputs": [],
   "source": [
    "X_train_np=np.array(X_train)\n",
    "y_train_np=np.array(y_train)\n",
    "X_test_np=np.array(X_test)\n",
    "y_test_np=np.array(y_test)\n",
    "\n",
    "Y_train_oh = convert_to_one_hot(y_train_np, C = 5)\n",
    "Y_test_oh = convert_to_one_hot(y_test_np, C = 5)\n",
    "\n",
    "X_test_indices = sentences_to_indices(X_test_np, word_to_index)\n",
    "X_train_indices = sentences_to_indices(X_train_np, word_to_index)\n",
    "\n",
    "X_train_indices = sequence.pad_sequences(X_train_indices, maxlen=100)\n",
    "X_test_indices = sequence.pad_sequences(X_test_indices, maxlen=100)"
   ]
  },
  {
   "cell_type": "code",
   "execution_count": 23,
   "metadata": {},
   "outputs": [
    {
     "data": {
      "text/plain": [
       "array([4, 2, 0, ..., 4, 0, 0], dtype=int64)"
      ]
     },
     "execution_count": 23,
     "metadata": {},
     "output_type": "execute_result"
    }
   ],
   "source": [
    "y_train_np"
   ]
  },
  {
   "cell_type": "code",
   "execution_count": 24,
   "metadata": {},
   "outputs": [
    {
     "name": "stdout",
     "output_type": "stream",
     "text": [
      "Epoch 1/10\n",
      "432/432 [==============================] - 103s 238ms/step - loss: 0.9986 - accuracy: 0.6376\n",
      "Epoch 2/10\n",
      "432/432 [==============================] - 102s 237ms/step - loss: 0.5357 - accuracy: 0.8216\n",
      "Epoch 3/10\n",
      "432/432 [==============================] - 100s 232ms/step - loss: 0.2565 - accuracy: 0.9193\n",
      "Epoch 4/10\n",
      "432/432 [==============================] - 102s 236ms/step - loss: 0.1530 - accuracy: 0.9519\n",
      "Epoch 5/10\n",
      "432/432 [==============================] - 111s 258ms/step - loss: 0.0996 - accuracy: 0.9677\n",
      "Epoch 6/10\n",
      "432/432 [==============================] - 104s 241ms/step - loss: 0.0844 - accuracy: 0.9750\n",
      "Epoch 7/10\n",
      "432/432 [==============================] - 106s 246ms/step - loss: 0.0549 - accuracy: 0.9843\n",
      "Epoch 8/10\n",
      "432/432 [==============================] - 103s 238ms/step - loss: 0.0772 - accuracy: 0.9763\n",
      "Epoch 9/10\n",
      "432/432 [==============================] - 105s 242ms/step - loss: 0.0533 - accuracy: 0.9843\n",
      "Epoch 10/10\n",
      "432/432 [==============================] - 105s 244ms/step - loss: 0.0439 - accuracy: 0.9870\n"
     ]
    }
   ],
   "source": [
    "model_history=model.fit(X_train_indices, Y_train_oh, epochs = epochs, batch_size = batch_size, shuffle=True)"
   ]
  },
  {
   "cell_type": "code",
   "execution_count": 25,
   "metadata": {},
   "outputs": [],
   "source": [
    "test_preds=model.predict(X_test_indices)"
   ]
  },
  {
   "cell_type": "code",
   "execution_count": 26,
   "metadata": {},
   "outputs": [
    {
     "data": {
      "text/plain": [
       "array([[9.9985433e-01, 5.2791092e-06, 6.4395658e-06, 9.1624770e-06,\n",
       "        1.2481275e-04],\n",
       "       [1.1937438e-04, 4.9349569e-06, 3.7197813e-05, 2.4359293e-04,\n",
       "        9.9959487e-01],\n",
       "       [1.5918791e-05, 2.3779561e-05, 3.4077464e-05, 9.9947995e-01,\n",
       "        4.4630733e-04],\n",
       "       ...,\n",
       "       [1.9134384e-05, 5.0626977e-07, 7.4842060e-06, 5.4268894e-05,\n",
       "        9.9991858e-01],\n",
       "       [7.2452685e-06, 1.7965469e-07, 4.5042530e-06, 3.4600271e-05,\n",
       "        9.9995351e-01],\n",
       "       [3.1004394e-05, 9.5491429e-05, 2.0387419e-04, 9.9913484e-01,\n",
       "        5.3475087e-04]], dtype=float32)"
      ]
     },
     "execution_count": 26,
     "metadata": {},
     "output_type": "execute_result"
    }
   ],
   "source": [
    "test_preds"
   ]
  },
  {
   "cell_type": "code",
   "execution_count": 27,
   "metadata": {},
   "outputs": [],
   "source": [
    "test_preds = [np.argmax(pred) for pred in test_preds]"
   ]
  },
  {
   "cell_type": "code",
   "execution_count": 28,
   "metadata": {},
   "outputs": [
    {
     "data": {
      "text/plain": [
       "4"
      ]
     },
     "execution_count": 28,
     "metadata": {},
     "output_type": "execute_result"
    }
   ],
   "source": [
    "np.argmax([7.7426394e-06, 1.2770720e-06, 1.9373367e-06, 6.3961576e-05,\n",
    "        9.9992502e-01])"
   ]
  },
  {
   "cell_type": "code",
   "execution_count": 29,
   "metadata": {},
   "outputs": [
    {
     "data": {
      "text/plain": [
       "' update 15082020never give chance regret go aheadthe icons looks great set spherlue icons theam looks better dark mode even though 6000 mah always leaves phone charging go bed like see phone 100 every morning turned fast charging option affect batterymonster 1 battery 55two day battery standby normal easy2display 4995super amaload full hd superb display3design35it a6000mah battery still looking bulky noglass body cares put back cover opinion dont spend money glass body uses back covers4 camera 35back camera pretty good front cameras low light output low many features available slow super slow videos available5 osui 55android 10 one ui6finger print reader face lock 35 face lock finger print reader fast7processor performance 355exynos 9611 meant pubg gamers perfect heavy gamer lag ang hang till processor outdated8 charging 255 fast charging provided 15w charger iy takes 3 hrs fully reacharge phone9 accessories 25no earphone back cover screenguard order backcover tempered glass placing order backbody plastic amd prone scratches10loud speaker 155loudspeaker sound level low keep earphonesverdict price best choice hardcore gamer '"
      ]
     },
     "execution_count": 29,
     "metadata": {},
     "output_type": "execute_result"
    }
   ],
   "source": [
    "X_test[0]"
   ]
  },
  {
   "cell_type": "code",
   "execution_count": 37,
   "metadata": {},
   "outputs": [
    {
     "data": {
      "text/plain": [
       "[0, 4, 3, 0, 4]"
      ]
     },
     "execution_count": 37,
     "metadata": {},
     "output_type": "execute_result"
    }
   ],
   "source": [
    "test_preds[0:5]"
   ]
  },
  {
   "cell_type": "code",
   "execution_count": 38,
   "metadata": {},
   "outputs": [],
   "source": [
    "train_preds=model.predict(X_train_indices)"
   ]
  },
  {
   "cell_type": "code",
   "execution_count": 39,
   "metadata": {},
   "outputs": [
    {
     "data": {
      "text/plain": [
       "array([[1.3473392e-05, 7.9048908e-07, 1.0624972e-05, 1.9881217e-04,\n",
       "        9.9977630e-01],\n",
       "       [1.7605718e-05, 1.1861497e-05, 9.9995017e-01, 7.7628638e-06,\n",
       "        1.2585311e-05],\n",
       "       [9.9985433e-01, 5.2791092e-06, 6.4395658e-06, 9.1624770e-06,\n",
       "        1.2481275e-04],\n",
       "       ...,\n",
       "       [1.9000199e-04, 9.4727320e-06, 1.0254991e-04, 9.2402234e-04,\n",
       "        9.9877399e-01],\n",
       "       [9.9996626e-01, 4.8076799e-06, 1.2051206e-05, 1.5331980e-05,\n",
       "        1.5580621e-06],\n",
       "       [9.9975485e-01, 5.2289288e-05, 2.4174784e-05, 4.1101481e-05,\n",
       "        1.2746903e-04]], dtype=float32)"
      ]
     },
     "execution_count": 39,
     "metadata": {},
     "output_type": "execute_result"
    }
   ],
   "source": [
    "train_preds"
   ]
  },
  {
   "cell_type": "code",
   "execution_count": 40,
   "metadata": {},
   "outputs": [],
   "source": [
    "train_preds = [np.argmax(pred) for pred in train_preds]"
   ]
  },
  {
   "cell_type": "code",
   "execution_count": 41,
   "metadata": {},
   "outputs": [
    {
     "data": {
      "text/plain": [
       "[4, 2, 0, 0, 1]"
      ]
     },
     "execution_count": 41,
     "metadata": {},
     "output_type": "execute_result"
    }
   ],
   "source": [
    "train_preds[0:5]"
   ]
  },
  {
   "cell_type": "code",
   "execution_count": null,
   "metadata": {},
   "outputs": [],
   "source": []
  },
  {
   "cell_type": "code",
   "execution_count": 42,
   "metadata": {},
   "outputs": [
    {
     "name": "stdout",
     "output_type": "stream",
     "text": [
      "Test Accuracy score : 0.983\n",
      "Train Accuracy score : 0.989\n"
     ]
    }
   ],
   "source": [
    "from sklearn.metrics import cohen_kappa_score,accuracy_score\n",
    "print(\"Test Accuracy score : %.3f\" % accuracy_score(y_test.astype('int'),test_preds))\n",
    "print(\"Train Accuracy score : %.3f\" % accuracy_score(y_train.astype('int'),train_preds))"
   ]
  },
  {
   "cell_type": "code",
   "execution_count": 43,
   "metadata": {},
   "outputs": [],
   "source": [
    "def sentiment_category(score):\n",
    "    if score >= 4:\n",
    "        return \"positive\"\n",
    "    elif score <= 2:\n",
    "        return \"negative\"\n",
    "    else:\n",
    "        return \"neutral\""
   ]
  },
  {
   "cell_type": "code",
   "execution_count": 44,
   "metadata": {},
   "outputs": [],
   "source": [
    "\n",
    "df_indices = sentences_to_indices(np.array(df['body']), word_to_index)\n",
    "df_indices = sequence.pad_sequences(df_indices, maxlen=100)\n",
    "df_preds=model.predict(df_indices)\n",
    "df_preds = [np.argmax(pred) for pred in df_preds]\n",
    "df['sentiment_score']=df_preds\n",
    "df['review_category']=df['sentiment_score'].apply(lambda x:sentiment_category(x))"
   ]
  },
  {
   "cell_type": "code",
   "execution_count": 45,
   "metadata": {},
   "outputs": [
    {
     "data": {
      "text/plain": [
       "array([[339258, 248489, 162321, ...,  99771, 173296, 157105],\n",
       "       [     0,      0,      0, ...,      0, 164328, 281311],\n",
       "       [     0,      0,      0, ...,      0, 303029, 283483],\n",
       "       ...,\n",
       "       [     0,      0,      0, ..., 164328, 292066, 159439],\n",
       "       [     0,      0,      0, ..., 292998, 269953, 124912],\n",
       "       [     0,      0,      0, ..., 271173, 117550,      0]])"
      ]
     },
     "execution_count": 45,
     "metadata": {},
     "output_type": "execute_result"
    }
   ],
   "source": [
    "df_indices"
   ]
  },
  {
   "cell_type": "code",
   "execution_count": 46,
   "metadata": {},
   "outputs": [
    {
     "data": {
      "text/plain": [
       "[3, 4, 4, 2, 0]"
      ]
     },
     "execution_count": 46,
     "metadata": {},
     "output_type": "execute_result"
    }
   ],
   "source": [
    "df_preds[0:5]"
   ]
  },
  {
   "cell_type": "code",
   "execution_count": 47,
   "metadata": {},
   "outputs": [
    {
     "data": {
      "text/html": [
       "<div>\n",
       "<style scoped>\n",
       "    .dataframe tbody tr th:only-of-type {\n",
       "        vertical-align: middle;\n",
       "    }\n",
       "\n",
       "    .dataframe tbody tr th {\n",
       "        vertical-align: top;\n",
       "    }\n",
       "\n",
       "    .dataframe thead th {\n",
       "        text-align: right;\n",
       "    }\n",
       "</style>\n",
       "<table border=\"1\" class=\"dataframe\">\n",
       "  <thead>\n",
       "    <tr style=\"text-align: right;\">\n",
       "      <th></th>\n",
       "      <th>Unnamed: 0</th>\n",
       "      <th>mobile_names</th>\n",
       "      <th>asin</th>\n",
       "      <th>title</th>\n",
       "      <th>body</th>\n",
       "      <th>star</th>\n",
       "      <th>sentiment_score</th>\n",
       "      <th>review_category</th>\n",
       "    </tr>\n",
       "  </thead>\n",
       "  <tbody>\n",
       "    <tr>\n",
       "      <th>0</th>\n",
       "      <td>0</td>\n",
       "      <td>Samsung Galaxy M21 (Midnight Blue, 4GB RAM, 64...</td>\n",
       "      <td>B07HGJJ559</td>\n",
       "      <td>\\nvalue money go it\\n</td>\n",
       "      <td>update 15082020never give chance regret go ah...</td>\n",
       "      <td>3</td>\n",
       "      <td>3</td>\n",
       "      <td>neutral</td>\n",
       "    </tr>\n",
       "    <tr>\n",
       "      <th>1</th>\n",
       "      <td>1</td>\n",
       "      <td>Samsung Galaxy M21 (Midnight Blue, 4GB RAM, 64...</td>\n",
       "      <td>B07HGJJ559</td>\n",
       "      <td>\\n\\n</td>\n",
       "      <td>title obviously monsterand good performance</td>\n",
       "      <td>4</td>\n",
       "      <td>4</td>\n",
       "      <td>positive</td>\n",
       "    </tr>\n",
       "    <tr>\n",
       "      <th>2</th>\n",
       "      <td>2</td>\n",
       "      <td>Samsung Galaxy M21 (Midnight Blue, 4GB RAM, 64...</td>\n",
       "      <td>B07HGJJ559</td>\n",
       "      <td>\\nbest budget phone india\\n</td>\n",
       "      <td>brilliant camera huge battery life brilliant ...</td>\n",
       "      <td>4</td>\n",
       "      <td>4</td>\n",
       "      <td>positive</td>\n",
       "    </tr>\n",
       "    <tr>\n",
       "      <th>3</th>\n",
       "      <td>3</td>\n",
       "      <td>Samsung Galaxy M21 (Midnight Blue, 4GB RAM, 64...</td>\n",
       "      <td>B07HGJJ559</td>\n",
       "      <td>\\nbattery life upto mark\\n</td>\n",
       "      <td>writing review using 6 daysi bought sumsung p...</td>\n",
       "      <td>2</td>\n",
       "      <td>2</td>\n",
       "      <td>negative</td>\n",
       "    </tr>\n",
       "    <tr>\n",
       "      <th>4</th>\n",
       "      <td>4</td>\n",
       "      <td>Samsung Galaxy M21 (Midnight Blue, 4GB RAM, 64...</td>\n",
       "      <td>B07HGJJ559</td>\n",
       "      <td>\\nfeeling cheated\\n</td>\n",
       "      <td>defective product received gets 8 12 hours ch...</td>\n",
       "      <td>0</td>\n",
       "      <td>0</td>\n",
       "      <td>negative</td>\n",
       "    </tr>\n",
       "  </tbody>\n",
       "</table>\n",
       "</div>"
      ],
      "text/plain": [
       "   Unnamed: 0                                       mobile_names        asin  \\\n",
       "0           0  Samsung Galaxy M21 (Midnight Blue, 4GB RAM, 64...  B07HGJJ559   \n",
       "1           1  Samsung Galaxy M21 (Midnight Blue, 4GB RAM, 64...  B07HGJJ559   \n",
       "2           2  Samsung Galaxy M21 (Midnight Blue, 4GB RAM, 64...  B07HGJJ559   \n",
       "3           3  Samsung Galaxy M21 (Midnight Blue, 4GB RAM, 64...  B07HGJJ559   \n",
       "4           4  Samsung Galaxy M21 (Midnight Blue, 4GB RAM, 64...  B07HGJJ559   \n",
       "\n",
       "                         title  \\\n",
       "0        \\nvalue money go it\\n   \n",
       "1                         \\n\\n   \n",
       "2  \\nbest budget phone india\\n   \n",
       "3   \\nbattery life upto mark\\n   \n",
       "4          \\nfeeling cheated\\n   \n",
       "\n",
       "                                                body  star  sentiment_score  \\\n",
       "0   update 15082020never give chance regret go ah...     3                3   \n",
       "1        title obviously monsterand good performance     4                4   \n",
       "2   brilliant camera huge battery life brilliant ...     4                4   \n",
       "3   writing review using 6 daysi bought sumsung p...     2                2   \n",
       "4   defective product received gets 8 12 hours ch...     0                0   \n",
       "\n",
       "  review_category  \n",
       "0         neutral  \n",
       "1        positive  \n",
       "2        positive  \n",
       "3        negative  \n",
       "4        negative  "
      ]
     },
     "execution_count": 47,
     "metadata": {},
     "output_type": "execute_result"
    }
   ],
   "source": [
    "df.head()"
   ]
  },
  {
   "cell_type": "code",
   "execution_count": 48,
   "metadata": {},
   "outputs": [
    {
     "data": {
      "text/plain": [
       "Text(0.5, 1.0, 'Distribution of Reviews Category')"
      ]
     },
     "execution_count": 48,
     "metadata": {},
     "output_type": "execute_result"
    },
    {
     "data": {
      "image/png": "[encoded data removed]",
      "text/plain": [
       "<Figure size 432x288 with 1 Axes>"
      ]
     },
     "metadata": {
      "needs_background": "light"
     },
     "output_type": "display_data"
    }
   ],
   "source": [
    "sns.countplot(df['review_category']).set_title(\"Distribution of Reviews Category\")"
   ]
  },
  {
   "cell_type": "code",
   "execution_count": 49,
   "metadata": {},
   "outputs": [
    {
     "data": {
      "text/plain": [
       "[' title obviously monsterand good performance',\n",
       " ' brilliant camera huge battery life brilliant display addition premium feeling samsung shame phones launch delayed due lockdownhighly recommended phone ',\n",
       " ' love one best class no1 best budget mobile samsung mobile brand also global no1 brand world great one rating 5star thanks samsung n amazon',\n",
       " ' value moneyi gamer cant say gaming performance buying normal usage phone great 6gb ram128 gb internal storage amoled display satisfiedi using samsung phones start samsungs amoled screen attracted feel gives simply amazingbut battery dont seem 6000 mahas far non gamer concerned phone best price range',\n",
       " ' nice mobile good']"
      ]
     },
     "execution_count": 49,
     "metadata": {},
     "output_type": "execute_result"
    }
   ],
   "source": [
    "positive_reviews=df.loc[df['review_category']=='positive','body'].tolist() # extracting all positive reviews and converting to a list\n",
    "positive_reviews[0:5]"
   ]
  },
  {
   "cell_type": "code",
   "execution_count": 50,
   "metadata": {},
   "outputs": [
    {
     "data": {
      "text/plain": [
       "[' writing review using 6 daysi bought sumsung phone 7 years hoping could good phone samsung disappointed lotthey claim 6000mah battery drain like 3000mah take almost 230hrs charge 10 90 fast charging fast charging market gimic clail monester like features iebattery 6000mah 15w fast charge ete reality far far away claimsothers features per price range thinking battery packed phone fast chargethen would sugget plz search others phone range',\n",
       " ' defective product received gets 8 12 hours charging amazon exchanging product',\n",
       " ' poor performance hangs aloft even dont use gaming app browsing phone lacks inspite 6 gb ram product serves zero rating please dont buy wastage money refund policy device',\n",
       " ' writing review using 6 daysi bought sumsung phone 7 years hoping could good phone samsung disappointed lotthey claim 6000mah battery drain like 3000mah take almost 230hrs charge 10 90 fast charging fast charging market gimic clail monester like features iebattery 6000mah 15w fast charge ete reality far far away claimsothers features per price range thinking battery packed phone fast chargethen would sugget plz search others phone range',\n",
       " ' defective product received gets 8 12 hours charging amazon exchanging product']"
      ]
     },
     "execution_count": 50,
     "metadata": {},
     "output_type": "execute_result"
    }
   ],
   "source": [
    "negative_reviews=df.loc[df['review_category']=='negative','body'].tolist() # extracting all negative reviews and converting to a list\n",
    "negative_reviews[0:5]"
   ]
  },
  {
   "cell_type": "code",
   "execution_count": 45,
   "metadata": {},
   "outputs": [
    {
     "data": {
      "image/png": "[encoded data removed]",
      "text/plain": [
       "<Figure size 432x288 with 1 Axes>"
      ]
     },
     "metadata": {
      "needs_background": "light"
     },
     "output_type": "display_data"
    }
   ],
   "source": [
    "\n",
    "wordcloud = WordCloud(height=4000, width=4000, background_color='black')\n",
    "wordcloud = wordcloud.generate(' '.join(df.loc[df['review_category']=='positive','body'].tolist()))\n",
    "plt.imshow(wordcloud)\n",
    "plt.title(\"Most common words in positive customer comments\")\n",
    "plt.axis('off')\n",
    "plt.show()"
   ]
  },
  {
   "cell_type": "code",
   "execution_count": 46,
   "metadata": {},
   "outputs": [
    {
     "data": {
      "image/png": "[encoded data removed]",
      "text/plain": [
       "<Figure size 432x288 with 1 Axes>"
      ]
     },
     "metadata": {
      "needs_background": "light"
     },
     "output_type": "display_data"
    }
   ],
   "source": [
    "from wordcloud import WordCloud\n",
    "wordcloud = WordCloud(height=4000, width=4000, background_color='black')\n",
    "wordcloud = wordcloud.generate(' '.join(df.loc[df['review_category']=='negative','body'].tolist()))\n",
    "plt.imshow(wordcloud)\n",
    "plt.title(\"Most common words in negative customer comments\")\n",
    "plt.axis('off')\n",
    "plt.show()"
   ]
  },
  {
   "cell_type": "markdown",
   "metadata": {},
   "source": [
    "#### Generating Bigrams\n",
    "Bigrams are more effective than unigrams"
   ]
  },
  {
   "cell_type": "code",
   "execution_count": 51,
   "metadata": {},
   "outputs": [],
   "source": [
    "def getMostCommon(reviews_list,topn=20):\n",
    "    reviews=\" \".join(reviews_list)\n",
    "    tokenised_reviews=reviews.split(\" \")\n",
    "    freq_counter=Counter(tokenised_reviews)\n",
    "    return freq_counter.most_common(topn)"
   ]
  },
  {
   "cell_type": "code",
   "execution_count": 52,
   "metadata": {},
   "outputs": [],
   "source": [
    "def generateNGram(text,n):\n",
    "    tokens=text.split(\" \")\n",
    "    ngrams = zip(*[tokens[i:] for i in range(n)])\n",
    "    return [\"_\".join(ngram) for ngram in ngrams]"
   ]
  },
  {
   "cell_type": "code",
   "execution_count": 53,
   "metadata": {},
   "outputs": [],
   "source": [
    "positive_reviews_bigrams=[\" \".join(generateNGram(review,2)) for review in positive_reviews]\n",
    "negative_reviews_bigrams=[\" \".join(generateNGram(review,2)) for review in negative_reviews]"
   ]
  },
  {
   "cell_type": "code",
   "execution_count": 54,
   "metadata": {},
   "outputs": [],
   "source": [
    "def plotMostCommonWords(reviews_list,topn=30,title=\"Common Review Words\",color=\"blue\",axis=None): #default number of words is given as 30\n",
    "    top_words=getMostCommon(reviews_list,topn=topn)\n",
    "    data=pd.DataFrame()\n",
    "    data['words']=[val[0] for val in top_words]\n",
    "    data['freq']=[val[1] for val in top_words]\n",
    "    if axis!=None:\n",
    "        sns.barplot(y='words',x='freq',data=data,color=color,ax=axis).set_title(title+\" top \"+str(topn))\n",
    "    else:\n",
    "        sns.barplot(y='words',x='freq',data=data,color=color).set_title(title+\" top \"+str(topn))"
   ]
  },
  {
   "cell_type": "code",
   "execution_count": 55,
   "metadata": {},
   "outputs": [
    {
     "data": {
      "image/png": "[encoded data removed]",
      "text/plain": [
       "<Figure size 1080x1440 with 2 Axes>"
      ]
     },
     "metadata": {
      "needs_background": "light"
     },
     "output_type": "display_data"
    }
   ],
   "source": [
    "rcParams['figure.figsize'] = 15,20\n",
    "fig,ax=plt.subplots(1,2)\n",
    "fig.subplots_adjust(wspace=1)\n",
    "plotMostCommonWords(positive_reviews_bigrams,40,'Positive Review Bigrams',axis=ax[0])\n",
    "\n",
    "plotMostCommonWords(negative_reviews_bigrams,40,'Negative Review Bigrams',color=\"red\",axis=ax[1])"
   ]
  },
  {
   "cell_type": "markdown",
   "metadata": {},
   "source": [
    "#### Save the model"
   ]
  },
  {
   "cell_type": "code",
   "execution_count": 122,
   "metadata": {},
   "outputs": [],
   "source": [
    "import pickle"
   ]
  },
  {
   "cell_type": "code",
   "execution_count": 43,
   "metadata": {},
   "outputs": [],
   "source": [
    "model.save(\"lstm.h5\")"
   ]
  },
  {
   "cell_type": "code",
   "execution_count": null,
   "metadata": {},
   "outputs": [],
   "source": []
  },
  {
   "cell_type": "code",
   "execution_count": 123,
   "metadata": {},
   "outputs": [],
   "source": [
    "from keras.models import load_model"
   ]
  },
  {
   "cell_type": "code",
   "execution_count": 126,
   "metadata": {},
   "outputs": [],
   "source": [
    "ann_path = \"lstm.h5\"\n",
    "lstm = load_model(ann_path, compile=False)\n",
    "lstm.compile(optimizer='adam', loss='categorical_crossentropy')"
   ]
  },
  {
   "cell_type": "code",
   "execution_count": 127,
   "metadata": {},
   "outputs": [
    {
     "name": "stdout",
     "output_type": "stream",
     "text": [
      "WARNING:tensorflow:Model was constructed with shape (None, 100) for input Tensor(\"input_1_2:0\", shape=(None, 100), dtype=int32), but it was called on an input with incompatible shape (None, 6).\n"
     ]
    },
    {
     "data": {
      "text/plain": [
       "array([[0.0482681 , 0.31250983, 0.47529587, 0.11370067, 0.05022554]],\n",
       "      dtype=float32)"
      ]
     },
     "execution_count": 127,
     "metadata": {},
     "output_type": "execute_result"
    }
   ],
   "source": [
    "test_sentence_preds_model_load = lstm.predict(test_sentence_indices)\n",
    "test_sentence_preds_model_load"
   ]
  },
  {
   "cell_type": "code",
   "execution_count": null,
   "metadata": {},
   "outputs": [],
   "source": []
  },
  {
   "cell_type": "code",
   "execution_count": 52,
   "metadata": {},
   "outputs": [
    {
     "data": {
      "text/plain": [
       "array(['i am okay with the phone'], dtype='<U24')"
      ]
     },
     "execution_count": 52,
     "metadata": {},
     "output_type": "execute_result"
    }
   ],
   "source": [
    "test_sentence = np.array([\"i am okay with the phone\"])\n",
    "test_sentence"
   ]
  },
  {
   "cell_type": "code",
   "execution_count": 53,
   "metadata": {},
   "outputs": [
    {
     "data": {
      "text/plain": [
       "array([[185457.,  52943., 268788., 388711., 357266., 283483.]])"
      ]
     },
     "execution_count": 53,
     "metadata": {},
     "output_type": "execute_result"
    }
   ],
   "source": [
    "test_sentence_indices = sentences_to_indices(test_sentence, word_to_index)\n",
    "test_sentence_indices"
   ]
  },
  {
   "cell_type": "code",
   "execution_count": 54,
   "metadata": {},
   "outputs": [],
   "source": [
    "# test_indices = sequence.pad_sequences(test_sentence_indices, maxlen=100)\n",
    "# test_indices"
   ]
  },
  {
   "cell_type": "code",
   "execution_count": 55,
   "metadata": {
    "scrolled": true
   },
   "outputs": [
    {
     "name": "stdout",
     "output_type": "stream",
     "text": [
      "WARNING:tensorflow:Model was constructed with shape (None, 100) for input Tensor(\"input_1:0\", shape=(None, 100), dtype=int32), but it was called on an input with incompatible shape (None, 6).\n"
     ]
    },
    {
     "data": {
      "text/plain": [
       "array([[0.31066602, 0.2913219 , 0.21954769, 0.08221804, 0.09624633]],\n",
       "      dtype=float32)"
      ]
     },
     "execution_count": 55,
     "metadata": {},
     "output_type": "execute_result"
    }
   ],
   "source": [
    "test_sentence_preds = model.predict(test_sentence_indices)\n",
    "test_sentence_preds"
   ]
  },
  {
   "cell_type": "code",
   "execution_count": 56,
   "metadata": {},
   "outputs": [
    {
     "data": {
      "text/plain": [
       "0"
      ]
     },
     "execution_count": 56,
     "metadata": {},
     "output_type": "execute_result"
    }
   ],
   "source": [
    "test_sentence_preds = np.argmax(test_sentence_preds)\n",
    "test_sentence_preds"
   ]
  },
  {
   "cell_type": "code",
   "execution_count": 57,
   "metadata": {},
   "outputs": [
    {
     "data": {
      "text/plain": [
       "'negative'"
      ]
     },
     "execution_count": 57,
     "metadata": {},
     "output_type": "execute_result"
    }
   ],
   "source": [
    "test_sentence_review = sentiment_category(test_sentence_preds)\n",
    "test_sentence_review"
   ]
  },
  {
   "cell_type": "code",
   "execution_count": null,
   "metadata": {},
   "outputs": [],
   "source": []
  },
  {
   "cell_type": "markdown",
   "metadata": {},
   "source": [
    "### 2. VADER( Valence Aware Dictionary for Sentiment Reasoning) "
   ]
  },
  {
   "cell_type": "code",
   "execution_count": 58,
   "metadata": {},
   "outputs": [
    {
     "name": "stderr",
     "output_type": "stream",
     "text": [
      "[nltk_data] Downloading package vader_lexicon to\n",
      "[nltk_data]     C:\\Users\\Debidutta\\AppData\\Roaming\\nltk_data...\n",
      "[nltk_data]   Package vader_lexicon is already up-to-date!\n"
     ]
    },
    {
     "data": {
      "text/plain": [
       "True"
      ]
     },
     "execution_count": 58,
     "metadata": {},
     "output_type": "execute_result"
    }
   ],
   "source": [
    "import nltk\n",
    "nltk.download('vader_lexicon')"
   ]
  },
  {
   "cell_type": "code",
   "execution_count": 59,
   "metadata": {},
   "outputs": [],
   "source": [
    "from nltk.sentiment.vader import SentimentIntensityAnalyzer\n",
    "sid = SentimentIntensityAnalyzer()"
   ]
  },
  {
   "cell_type": "code",
   "execution_count": 60,
   "metadata": {},
   "outputs": [
    {
     "data": {
      "text/html": [
       "<div>\n",
       "<style scoped>\n",
       "    .dataframe tbody tr th:only-of-type {\n",
       "        vertical-align: middle;\n",
       "    }\n",
       "\n",
       "    .dataframe tbody tr th {\n",
       "        vertical-align: top;\n",
       "    }\n",
       "\n",
       "    .dataframe thead th {\n",
       "        text-align: right;\n",
       "    }\n",
       "</style>\n",
       "<table border=\"1\" class=\"dataframe\">\n",
       "  <thead>\n",
       "    <tr style=\"text-align: right;\">\n",
       "      <th></th>\n",
       "      <th>Unnamed: 0</th>\n",
       "      <th>mobile_names</th>\n",
       "      <th>asin</th>\n",
       "      <th>title</th>\n",
       "      <th>body</th>\n",
       "      <th>star</th>\n",
       "      <th>sentiment_score</th>\n",
       "      <th>review_category</th>\n",
       "    </tr>\n",
       "  </thead>\n",
       "  <tbody>\n",
       "    <tr>\n",
       "      <th>0</th>\n",
       "      <td>0</td>\n",
       "      <td>Samsung Galaxy M21 (Midnight Blue, 4GB RAM, 64...</td>\n",
       "      <td>B07HGJJ559</td>\n",
       "      <td>\\nvalue money go it\\n</td>\n",
       "      <td>update 15082020never give chance regret go ah...</td>\n",
       "      <td>3</td>\n",
       "      <td>3</td>\n",
       "      <td>neutral</td>\n",
       "    </tr>\n",
       "    <tr>\n",
       "      <th>1</th>\n",
       "      <td>1</td>\n",
       "      <td>Samsung Galaxy M21 (Midnight Blue, 4GB RAM, 64...</td>\n",
       "      <td>B07HGJJ559</td>\n",
       "      <td>\\n\\n</td>\n",
       "      <td>title obviously monsterand good performance</td>\n",
       "      <td>4</td>\n",
       "      <td>4</td>\n",
       "      <td>positive</td>\n",
       "    </tr>\n",
       "    <tr>\n",
       "      <th>2</th>\n",
       "      <td>2</td>\n",
       "      <td>Samsung Galaxy M21 (Midnight Blue, 4GB RAM, 64...</td>\n",
       "      <td>B07HGJJ559</td>\n",
       "      <td>\\nbest budget phone india\\n</td>\n",
       "      <td>brilliant camera huge battery life brilliant ...</td>\n",
       "      <td>4</td>\n",
       "      <td>4</td>\n",
       "      <td>positive</td>\n",
       "    </tr>\n",
       "    <tr>\n",
       "      <th>3</th>\n",
       "      <td>3</td>\n",
       "      <td>Samsung Galaxy M21 (Midnight Blue, 4GB RAM, 64...</td>\n",
       "      <td>B07HGJJ559</td>\n",
       "      <td>\\nbattery life upto mark\\n</td>\n",
       "      <td>writing review using 6 daysi bought sumsung p...</td>\n",
       "      <td>2</td>\n",
       "      <td>2</td>\n",
       "      <td>negative</td>\n",
       "    </tr>\n",
       "    <tr>\n",
       "      <th>4</th>\n",
       "      <td>4</td>\n",
       "      <td>Samsung Galaxy M21 (Midnight Blue, 4GB RAM, 64...</td>\n",
       "      <td>B07HGJJ559</td>\n",
       "      <td>\\nfeeling cheated\\n</td>\n",
       "      <td>defective product received gets 8 12 hours ch...</td>\n",
       "      <td>0</td>\n",
       "      <td>0</td>\n",
       "      <td>negative</td>\n",
       "    </tr>\n",
       "  </tbody>\n",
       "</table>\n",
       "</div>"
      ],
      "text/plain": [
       "   Unnamed: 0                                       mobile_names        asin  \\\n",
       "0           0  Samsung Galaxy M21 (Midnight Blue, 4GB RAM, 64...  B07HGJJ559   \n",
       "1           1  Samsung Galaxy M21 (Midnight Blue, 4GB RAM, 64...  B07HGJJ559   \n",
       "2           2  Samsung Galaxy M21 (Midnight Blue, 4GB RAM, 64...  B07HGJJ559   \n",
       "3           3  Samsung Galaxy M21 (Midnight Blue, 4GB RAM, 64...  B07HGJJ559   \n",
       "4           4  Samsung Galaxy M21 (Midnight Blue, 4GB RAM, 64...  B07HGJJ559   \n",
       "\n",
       "                         title  \\\n",
       "0        \\nvalue money go it\\n   \n",
       "1                         \\n\\n   \n",
       "2  \\nbest budget phone india\\n   \n",
       "3   \\nbattery life upto mark\\n   \n",
       "4          \\nfeeling cheated\\n   \n",
       "\n",
       "                                                body  star  sentiment_score  \\\n",
       "0   update 15082020never give chance regret go ah...     3                3   \n",
       "1        title obviously monsterand good performance     4                4   \n",
       "2   brilliant camera huge battery life brilliant ...     4                4   \n",
       "3   writing review using 6 daysi bought sumsung p...     2                2   \n",
       "4   defective product received gets 8 12 hours ch...     0                0   \n",
       "\n",
       "  review_category  \n",
       "0         neutral  \n",
       "1        positive  \n",
       "2        positive  \n",
       "3        negative  \n",
       "4        negative  "
      ]
     },
     "execution_count": 60,
     "metadata": {},
     "output_type": "execute_result"
    }
   ],
   "source": [
    "data = df\n",
    "data.head()"
   ]
  },
  {
   "cell_type": "code",
   "execution_count": 61,
   "metadata": {},
   "outputs": [
    {
     "data": {
      "text/plain": [
       "False"
      ]
     },
     "execution_count": 61,
     "metadata": {},
     "output_type": "execute_result"
    }
   ],
   "source": [
    "data['body'].isnull().any()"
   ]
  },
  {
   "cell_type": "code",
   "execution_count": 62,
   "metadata": {},
   "outputs": [
    {
     "data": {
      "text/plain": [
       "{'neg': 0.058, 'neu': 0.756, 'pos': 0.185, 'compound': 0.9799}"
      ]
     },
     "execution_count": 62,
     "metadata": {},
     "output_type": "execute_result"
    }
   ],
   "source": [
    "sid.polarity_scores(df.loc[0]['body'])"
   ]
  },
  {
   "cell_type": "code",
   "execution_count": 63,
   "metadata": {},
   "outputs": [
    {
     "data": {
      "text/html": [
       "<div>\n",
       "<style scoped>\n",
       "    .dataframe tbody tr th:only-of-type {\n",
       "        vertical-align: middle;\n",
       "    }\n",
       "\n",
       "    .dataframe tbody tr th {\n",
       "        vertical-align: top;\n",
       "    }\n",
       "\n",
       "    .dataframe thead th {\n",
       "        text-align: right;\n",
       "    }\n",
       "</style>\n",
       "<table border=\"1\" class=\"dataframe\">\n",
       "  <thead>\n",
       "    <tr style=\"text-align: right;\">\n",
       "      <th></th>\n",
       "      <th>Unnamed: 0</th>\n",
       "      <th>mobile_names</th>\n",
       "      <th>asin</th>\n",
       "      <th>title</th>\n",
       "      <th>body</th>\n",
       "      <th>star</th>\n",
       "      <th>sentiment_score</th>\n",
       "      <th>review_category</th>\n",
       "      <th>vader_scores</th>\n",
       "    </tr>\n",
       "  </thead>\n",
       "  <tbody>\n",
       "    <tr>\n",
       "      <th>0</th>\n",
       "      <td>0</td>\n",
       "      <td>Samsung Galaxy M21 (Midnight Blue, 4GB RAM, 64...</td>\n",
       "      <td>B07HGJJ559</td>\n",
       "      <td>\\nvalue money go it\\n</td>\n",
       "      <td>update 15082020never give chance regret go ah...</td>\n",
       "      <td>3</td>\n",
       "      <td>3</td>\n",
       "      <td>neutral</td>\n",
       "      <td>{'neg': 0.058, 'neu': 0.756, 'pos': 0.185, 'co...</td>\n",
       "    </tr>\n",
       "    <tr>\n",
       "      <th>1</th>\n",
       "      <td>1</td>\n",
       "      <td>Samsung Galaxy M21 (Midnight Blue, 4GB RAM, 64...</td>\n",
       "      <td>B07HGJJ559</td>\n",
       "      <td>\\n\\n</td>\n",
       "      <td>title obviously monsterand good performance</td>\n",
       "      <td>4</td>\n",
       "      <td>4</td>\n",
       "      <td>positive</td>\n",
       "      <td>{'neg': 0.0, 'neu': 0.58, 'pos': 0.42, 'compou...</td>\n",
       "    </tr>\n",
       "    <tr>\n",
       "      <th>2</th>\n",
       "      <td>2</td>\n",
       "      <td>Samsung Galaxy M21 (Midnight Blue, 4GB RAM, 64...</td>\n",
       "      <td>B07HGJJ559</td>\n",
       "      <td>\\nbest budget phone india\\n</td>\n",
       "      <td>brilliant camera huge battery life brilliant ...</td>\n",
       "      <td>4</td>\n",
       "      <td>4</td>\n",
       "      <td>positive</td>\n",
       "      <td>{'neg': 0.166, 'neu': 0.397, 'pos': 0.437, 'co...</td>\n",
       "    </tr>\n",
       "    <tr>\n",
       "      <th>3</th>\n",
       "      <td>3</td>\n",
       "      <td>Samsung Galaxy M21 (Midnight Blue, 4GB RAM, 64...</td>\n",
       "      <td>B07HGJJ559</td>\n",
       "      <td>\\nbattery life upto mark\\n</td>\n",
       "      <td>writing review using 6 daysi bought sumsung p...</td>\n",
       "      <td>2</td>\n",
       "      <td>2</td>\n",
       "      <td>negative</td>\n",
       "      <td>{'neg': 0.042, 'neu': 0.796, 'pos': 0.162, 'co...</td>\n",
       "    </tr>\n",
       "    <tr>\n",
       "      <th>4</th>\n",
       "      <td>4</td>\n",
       "      <td>Samsung Galaxy M21 (Midnight Blue, 4GB RAM, 64...</td>\n",
       "      <td>B07HGJJ559</td>\n",
       "      <td>\\nfeeling cheated\\n</td>\n",
       "      <td>defective product received gets 8 12 hours ch...</td>\n",
       "      <td>0</td>\n",
       "      <td>0</td>\n",
       "      <td>negative</td>\n",
       "      <td>{'neg': 0.23, 'neu': 0.635, 'pos': 0.135, 'com...</td>\n",
       "    </tr>\n",
       "  </tbody>\n",
       "</table>\n",
       "</div>"
      ],
      "text/plain": [
       "   Unnamed: 0                                       mobile_names        asin  \\\n",
       "0           0  Samsung Galaxy M21 (Midnight Blue, 4GB RAM, 64...  B07HGJJ559   \n",
       "1           1  Samsung Galaxy M21 (Midnight Blue, 4GB RAM, 64...  B07HGJJ559   \n",
       "2           2  Samsung Galaxy M21 (Midnight Blue, 4GB RAM, 64...  B07HGJJ559   \n",
       "3           3  Samsung Galaxy M21 (Midnight Blue, 4GB RAM, 64...  B07HGJJ559   \n",
       "4           4  Samsung Galaxy M21 (Midnight Blue, 4GB RAM, 64...  B07HGJJ559   \n",
       "\n",
       "                         title  \\\n",
       "0        \\nvalue money go it\\n   \n",
       "1                         \\n\\n   \n",
       "2  \\nbest budget phone india\\n   \n",
       "3   \\nbattery life upto mark\\n   \n",
       "4          \\nfeeling cheated\\n   \n",
       "\n",
       "                                                body  star  sentiment_score  \\\n",
       "0   update 15082020never give chance regret go ah...     3                3   \n",
       "1        title obviously monsterand good performance     4                4   \n",
       "2   brilliant camera huge battery life brilliant ...     4                4   \n",
       "3   writing review using 6 daysi bought sumsung p...     2                2   \n",
       "4   defective product received gets 8 12 hours ch...     0                0   \n",
       "\n",
       "  review_category                                       vader_scores  \n",
       "0         neutral  {'neg': 0.058, 'neu': 0.756, 'pos': 0.185, 'co...  \n",
       "1        positive  {'neg': 0.0, 'neu': 0.58, 'pos': 0.42, 'compou...  \n",
       "2        positive  {'neg': 0.166, 'neu': 0.397, 'pos': 0.437, 'co...  \n",
       "3        negative  {'neg': 0.042, 'neu': 0.796, 'pos': 0.162, 'co...  \n",
       "4        negative  {'neg': 0.23, 'neu': 0.635, 'pos': 0.135, 'com...  "
      ]
     },
     "execution_count": 63,
     "metadata": {},
     "output_type": "execute_result"
    }
   ],
   "source": [
    "data['vader_scores'] = data['body'].apply(lambda review: sid.polarity_scores(review))\n",
    "data.head()"
   ]
  },
  {
   "cell_type": "code",
   "execution_count": 64,
   "metadata": {},
   "outputs": [
    {
     "data": {
      "text/html": [
       "<div>\n",
       "<style scoped>\n",
       "    .dataframe tbody tr th:only-of-type {\n",
       "        vertical-align: middle;\n",
       "    }\n",
       "\n",
       "    .dataframe tbody tr th {\n",
       "        vertical-align: top;\n",
       "    }\n",
       "\n",
       "    .dataframe thead th {\n",
       "        text-align: right;\n",
       "    }\n",
       "</style>\n",
       "<table border=\"1\" class=\"dataframe\">\n",
       "  <thead>\n",
       "    <tr style=\"text-align: right;\">\n",
       "      <th></th>\n",
       "      <th>Unnamed: 0</th>\n",
       "      <th>mobile_names</th>\n",
       "      <th>asin</th>\n",
       "      <th>title</th>\n",
       "      <th>body</th>\n",
       "      <th>star</th>\n",
       "      <th>sentiment_score</th>\n",
       "      <th>review_category</th>\n",
       "      <th>vader_scores</th>\n",
       "      <th>compound</th>\n",
       "    </tr>\n",
       "  </thead>\n",
       "  <tbody>\n",
       "    <tr>\n",
       "      <th>0</th>\n",
       "      <td>0</td>\n",
       "      <td>Samsung Galaxy M21 (Midnight Blue, 4GB RAM, 64...</td>\n",
       "      <td>B07HGJJ559</td>\n",
       "      <td>\\nvalue money go it\\n</td>\n",
       "      <td>update 15082020never give chance regret go ah...</td>\n",
       "      <td>3</td>\n",
       "      <td>3</td>\n",
       "      <td>neutral</td>\n",
       "      <td>{'neg': 0.058, 'neu': 0.756, 'pos': 0.185, 'co...</td>\n",
       "      <td>0.9799</td>\n",
       "    </tr>\n",
       "    <tr>\n",
       "      <th>1</th>\n",
       "      <td>1</td>\n",
       "      <td>Samsung Galaxy M21 (Midnight Blue, 4GB RAM, 64...</td>\n",
       "      <td>B07HGJJ559</td>\n",
       "      <td>\\n\\n</td>\n",
       "      <td>title obviously monsterand good performance</td>\n",
       "      <td>4</td>\n",
       "      <td>4</td>\n",
       "      <td>positive</td>\n",
       "      <td>{'neg': 0.0, 'neu': 0.58, 'pos': 0.42, 'compou...</td>\n",
       "      <td>0.4404</td>\n",
       "    </tr>\n",
       "    <tr>\n",
       "      <th>2</th>\n",
       "      <td>2</td>\n",
       "      <td>Samsung Galaxy M21 (Midnight Blue, 4GB RAM, 64...</td>\n",
       "      <td>B07HGJJ559</td>\n",
       "      <td>\\nbest budget phone india\\n</td>\n",
       "      <td>brilliant camera huge battery life brilliant ...</td>\n",
       "      <td>4</td>\n",
       "      <td>4</td>\n",
       "      <td>positive</td>\n",
       "      <td>{'neg': 0.166, 'neu': 0.397, 'pos': 0.437, 'co...</td>\n",
       "      <td>0.8020</td>\n",
       "    </tr>\n",
       "    <tr>\n",
       "      <th>3</th>\n",
       "      <td>3</td>\n",
       "      <td>Samsung Galaxy M21 (Midnight Blue, 4GB RAM, 64...</td>\n",
       "      <td>B07HGJJ559</td>\n",
       "      <td>\\nbattery life upto mark\\n</td>\n",
       "      <td>writing review using 6 daysi bought sumsung p...</td>\n",
       "      <td>2</td>\n",
       "      <td>2</td>\n",
       "      <td>negative</td>\n",
       "      <td>{'neg': 0.042, 'neu': 0.796, 'pos': 0.162, 'co...</td>\n",
       "      <td>0.7845</td>\n",
       "    </tr>\n",
       "    <tr>\n",
       "      <th>4</th>\n",
       "      <td>4</td>\n",
       "      <td>Samsung Galaxy M21 (Midnight Blue, 4GB RAM, 64...</td>\n",
       "      <td>B07HGJJ559</td>\n",
       "      <td>\\nfeeling cheated\\n</td>\n",
       "      <td>defective product received gets 8 12 hours ch...</td>\n",
       "      <td>0</td>\n",
       "      <td>0</td>\n",
       "      <td>negative</td>\n",
       "      <td>{'neg': 0.23, 'neu': 0.635, 'pos': 0.135, 'com...</td>\n",
       "      <td>-0.2960</td>\n",
       "    </tr>\n",
       "  </tbody>\n",
       "</table>\n",
       "</div>"
      ],
      "text/plain": [
       "   Unnamed: 0                                       mobile_names        asin  \\\n",
       "0           0  Samsung Galaxy M21 (Midnight Blue, 4GB RAM, 64...  B07HGJJ559   \n",
       "1           1  Samsung Galaxy M21 (Midnight Blue, 4GB RAM, 64...  B07HGJJ559   \n",
       "2           2  Samsung Galaxy M21 (Midnight Blue, 4GB RAM, 64...  B07HGJJ559   \n",
       "3           3  Samsung Galaxy M21 (Midnight Blue, 4GB RAM, 64...  B07HGJJ559   \n",
       "4           4  Samsung Galaxy M21 (Midnight Blue, 4GB RAM, 64...  B07HGJJ559   \n",
       "\n",
       "                         title  \\\n",
       "0        \\nvalue money go it\\n   \n",
       "1                         \\n\\n   \n",
       "2  \\nbest budget phone india\\n   \n",
       "3   \\nbattery life upto mark\\n   \n",
       "4          \\nfeeling cheated\\n   \n",
       "\n",
       "                                                body  star  sentiment_score  \\\n",
       "0   update 15082020never give chance regret go ah...     3                3   \n",
       "1        title obviously monsterand good performance     4                4   \n",
       "2   brilliant camera huge battery life brilliant ...     4                4   \n",
       "3   writing review using 6 daysi bought sumsung p...     2                2   \n",
       "4   defective product received gets 8 12 hours ch...     0                0   \n",
       "\n",
       "  review_category                                       vader_scores  compound  \n",
       "0         neutral  {'neg': 0.058, 'neu': 0.756, 'pos': 0.185, 'co...    0.9799  \n",
       "1        positive  {'neg': 0.0, 'neu': 0.58, 'pos': 0.42, 'compou...    0.4404  \n",
       "2        positive  {'neg': 0.166, 'neu': 0.397, 'pos': 0.437, 'co...    0.8020  \n",
       "3        negative  {'neg': 0.042, 'neu': 0.796, 'pos': 0.162, 'co...    0.7845  \n",
       "4        negative  {'neg': 0.23, 'neu': 0.635, 'pos': 0.135, 'com...   -0.2960  "
      ]
     },
     "execution_count": 64,
     "metadata": {},
     "output_type": "execute_result"
    }
   ],
   "source": [
    "data['compound'] = data['vader_scores'].apply(lambda score_dict: score_dict['compound'])\n",
    "df.head()"
   ]
  },
  {
   "cell_type": "code",
   "execution_count": null,
   "metadata": {},
   "outputs": [],
   "source": []
  },
  {
   "cell_type": "markdown",
   "metadata": {},
   "source": [
    "### feature selection technique 2 (discard)"
   ]
  },
  {
   "cell_type": "code",
   "execution_count": 96,
   "metadata": {},
   "outputs": [
    {
     "name": "stderr",
     "output_type": "stream",
     "text": [
      "[nltk_data] Downloading package stopwords to\n",
      "[nltk_data]     C:\\Users\\Debidutta\\AppData\\Roaming\\nltk_data...\n",
      "[nltk_data]   Package stopwords is already up-to-date!\n"
     ]
    }
   ],
   "source": [
    "import re\n",
    "import nltk\n",
    "nltk.download(\"stopwords\")\n",
    "from nltk.corpus import stopwords\n",
    "from nltk.stem.porter import PorterStemmer"
   ]
  },
  {
   "cell_type": "code",
   "execution_count": 97,
   "metadata": {},
   "outputs": [],
   "source": [
    "ps=PorterStemmer()"
   ]
  },
  {
   "cell_type": "code",
   "execution_count": 98,
   "metadata": {},
   "outputs": [],
   "source": [
    "list1=[]\n",
    "for i in range(len(df['body'])):\n",
    "    review=df[\"body\"][i]\n",
    "    review=re.sub(\"[^a-zA-Z]\",\" \",review)\n",
    "    review=review.lower()\n",
    "    review=review.split()    \n",
    "    review=[ps.stem(word) for word in review if not word in set(stopwords.words('english'))]\n",
    "    review=\" \".join(review)\n",
    "    list1.append(review)"
   ]
  },
  {
   "cell_type": "code",
   "execution_count": 99,
   "metadata": {},
   "outputs": [],
   "source": [
    "#vectorization\n",
    "from sklearn.feature_extraction.text import CountVectorizer\n",
    "cv=CountVectorizer(max_features=3000, ngram_range=(1,4))\n",
    "x=cv.fit_transform(list1).toarray()"
   ]
  },
  {
   "cell_type": "code",
   "execution_count": 100,
   "metadata": {},
   "outputs": [],
   "source": [
    "from sklearn.model_selection import train_test_split\n",
    "new_x_train,new_x_test,new_y_train,new_y_test=train_test_split(x,df['star'],test_size=0.2,random_state=0)"
   ]
  },
  {
   "cell_type": "code",
   "execution_count": null,
   "metadata": {},
   "outputs": [],
   "source": []
  },
  {
   "cell_type": "code",
   "execution_count": null,
   "metadata": {},
   "outputs": [],
   "source": []
  },
  {
   "cell_type": "markdown",
   "metadata": {},
   "source": [
    "### 3. XGBoost"
   ]
  },
  {
   "cell_type": "code",
   "execution_count": 66,
   "metadata": {},
   "outputs": [],
   "source": [
    "from xgboost import XGBClassifier\n",
    "# from sklearn.metrics import accuracy_score"
   ]
  },
  {
   "cell_type": "code",
   "execution_count": 101,
   "metadata": {},
   "outputs": [],
   "source": [
    "model_xgb = XGBClassifier()"
   ]
  },
  {
   "cell_type": "code",
   "execution_count": 132,
   "metadata": {},
   "outputs": [
    {
     "name": "stderr",
     "output_type": "stream",
     "text": [
      "c:\\python38\\lib\\site-packages\\xgboost\\sklearn.py:1146: UserWarning: The use of label encoder in XGBClassifier is deprecated and will be removed in a future release. To remove this warning, do the following: 1) Pass option use_label_encoder=False when constructing XGBClassifier object; and 2) Encode your labels (y) as integers starting with 0, i.e. 0, 1, 2, ..., [num_class - 1].\n",
      "  warnings.warn(label_encoder_deprecation_msg, UserWarning)\n"
     ]
    },
    {
     "name": "stdout",
     "output_type": "stream",
     "text": [
      "[00:17:07] WARNING: C:/Users/Administrator/workspace/xgboost-win64_release_1.4.0/src/learner.cc:1095: Starting in XGBoost 1.3.0, the default evaluation metric used with the objective 'multi:softprob' was changed from 'merror' to 'mlogloss'. Explicitly set eval_metric if you'd like to restore the old behavior.\n"
     ]
    },
    {
     "data": {
      "text/plain": [
       "XGBClassifier(base_score=0.5, booster='gbtree', colsample_bylevel=1,\n",
       "              colsample_bynode=1, colsample_bytree=1, gamma=0, gpu_id=-1,\n",
       "              importance_type='gain', interaction_constraints='',\n",
       "              learning_rate=0.300000012, max_delta_step=0, max_depth=6,\n",
       "              min_child_weight=1, missing=nan, monotone_constraints='()',\n",
       "              n_estimators=100, n_jobs=8, num_parallel_tree=1,\n",
       "              objective='multi:softprob', random_state=0, reg_alpha=0,\n",
       "              reg_lambda=1, scale_pos_weight=None, subsample=1,\n",
       "              tree_method='exact', validate_parameters=1, verbosity=None)"
      ]
     },
     "execution_count": 132,
     "metadata": {},
     "output_type": "execute_result"
    }
   ],
   "source": [
    "model_xgb.fit(X_train_indices, y_train_np)"
   ]
  },
  {
   "cell_type": "code",
   "execution_count": 134,
   "metadata": {},
   "outputs": [],
   "source": [
    "xgb_test_preds=model_xgb.predict(X_test_indices)"
   ]
  },
  {
   "cell_type": "code",
   "execution_count": 135,
   "metadata": {},
   "outputs": [
    {
     "name": "stdout",
     "output_type": "stream",
     "text": [
      "Test Accuracy score : 0.994\n"
     ]
    }
   ],
   "source": [
    "print(\"Test Accuracy score : %.3f\" % accuracy_score(y_test.astype('int'),xgb_test_preds))"
   ]
  },
  {
   "cell_type": "code",
   "execution_count": 141,
   "metadata": {},
   "outputs": [
    {
     "data": {
      "text/plain": [
       "17248"
      ]
     },
     "execution_count": 141,
     "metadata": {},
     "output_type": "execute_result"
    }
   ],
   "source": [
    "xgb_test_preds_2=model_xgb.predict(df_indices)\n",
    "len(xgb_test_preds_2)"
   ]
  },
  {
   "cell_type": "code",
   "execution_count": 144,
   "metadata": {},
   "outputs": [
    {
     "name": "stdout",
     "output_type": "stream",
     "text": [
      "Test Accuracy score : 0.998\n"
     ]
    }
   ],
   "source": [
    "print(\"Test Accuracy score : %.3f\" % accuracy_score(df['star'].astype('int'),xgb_test_preds_2))"
   ]
  },
  {
   "cell_type": "code",
   "execution_count": 138,
   "metadata": {},
   "outputs": [],
   "source": [
    "file_name = \"xgb_reg.pkl\"\n",
    "\n",
    "# save\n",
    "pickle.dump(model_xgb, open(file_name, \"wb\"))\n",
    "\n",
    "# load\n",
    "xgb_model_loaded = pickle.load(open(file_name, \"rb\"))"
   ]
  },
  {
   "cell_type": "code",
   "execution_count": 139,
   "metadata": {},
   "outputs": [
    {
     "name": "stdout",
     "output_type": "stream",
     "text": [
      "Test Accuracy score : 0.994\n"
     ]
    }
   ],
   "source": [
    "xgb_test_preds=xgb_model_loaded.predict(X_test_indices)\n",
    "print(\"Test Accuracy score : %.3f\" % accuracy_score(y_test.astype('int'),xgb_test_preds))"
   ]
  },
  {
   "cell_type": "code",
   "execution_count": null,
   "metadata": {},
   "outputs": [],
   "source": []
  },
  {
   "cell_type": "markdown",
   "metadata": {},
   "source": [
    "### 4. ANN (discard)"
   ]
  },
  {
   "cell_type": "code",
   "execution_count": 83,
   "metadata": {},
   "outputs": [],
   "source": [
    "from keras.models import Sequential\n",
    "from keras.layers import Dense"
   ]
  },
  {
   "cell_type": "code",
   "execution_count": 146,
   "metadata": {},
   "outputs": [
    {
     "name": "stdout",
     "output_type": "stream",
     "text": [
      "Epoch 1/10\n",
      "432/432 [==============================] - 25s 58ms/step - loss: -3536507633664.0000 - accuracy: 0.0560\n",
      "Epoch 2/10\n",
      "432/432 [==============================] - 27s 62ms/step - loss: -59045092261888.0000 - accuracy: 0.0554\n",
      "Epoch 3/10\n",
      "432/432 [==============================] - 29s 67ms/step - loss: -246868378386432.0000 - accuracy: 0.0554\n",
      "Epoch 4/10\n",
      "432/432 [==============================] - 30s 69ms/step - loss: -618288124002304.0000 - accuracy: 0.0554\n",
      "Epoch 5/10\n",
      "432/432 [==============================] - 29s 68ms/step - loss: -1210793827762176.0000 - accuracy: 0.0554\n",
      "Epoch 6/10\n",
      "432/432 [==============================] - 30s 70ms/step - loss: -2051038680973312.0000 - accuracy: 0.0554\n",
      "Epoch 7/10\n",
      "432/432 [==============================] - 30s 70ms/step - loss: -3152291515334656.0000 - accuracy: 0.0554\n",
      "Epoch 8/10\n",
      "432/432 [==============================] - 31s 71ms/step - loss: -4531520672890880.0000 - accuracy: 0.0554\n",
      "Epoch 9/10\n",
      "432/432 [==============================] - 32s 75ms/step - loss: -6209799544897536.0000 - accuracy: 0.0554\n",
      "Epoch 10/10\n",
      "432/432 [==============================] - 31s 71ms/step - loss: -8195108985896960.0000 - accuracy: 0.0554\n"
     ]
    },
    {
     "data": {
      "text/plain": [
       "<tensorflow.python.keras.callbacks.History at 0x2575ca94d60>"
      ]
     },
     "execution_count": 146,
     "metadata": {},
     "output_type": "execute_result"
    }
   ],
   "source": [
    "ann_model = Sequential()\n",
    "ann_model.add(Dense(units =3000, activation = \"relu\"))\n",
    "ann_model.add(Dense(units =3000, activation = \"relu\"))\n",
    "\n",
    "ann_model.add(Dense(units = 1, activation = \"sigmoid\"))\n",
    "ann_model.compile(optimizer = \"adam\",loss = \"binary_crossentropy\",metrics = [\"accuracy\"])\n",
    "ann_model.fit(X_train_indices, y_train_np, epochs = 10)"
   ]
  },
  {
   "cell_type": "code",
   "execution_count": 147,
   "metadata": {},
   "outputs": [],
   "source": [
    "ann_test_preds=ann_model.predict(X_test_indices)\n",
    "# ann_test_preds = [np.argmax(pred) for pred in ann_test_preds]"
   ]
  },
  {
   "cell_type": "code",
   "execution_count": 149,
   "metadata": {},
   "outputs": [
    {
     "name": "stdout",
     "output_type": "stream",
     "text": [
      "Test Accuracy score : 0.061\n"
     ]
    }
   ],
   "source": [
    "print(\"Test Accuracy score : %.3f\" % accuracy_score(y_test.astype('int'),ann_test_preds))"
   ]
  },
  {
   "cell_type": "code",
   "execution_count": null,
   "metadata": {},
   "outputs": [],
   "source": []
  },
  {
   "cell_type": "code",
   "execution_count": 150,
   "metadata": {},
   "outputs": [],
   "source": [
    "ann_model.save(\"ann.h5\")"
   ]
  },
  {
   "cell_type": "code",
   "execution_count": null,
   "metadata": {},
   "outputs": [],
   "source": []
  },
  {
   "cell_type": "markdown",
   "metadata": {},
   "source": [
    "### 5. Naive Bayes"
   ]
  },
  {
   "cell_type": "code",
   "execution_count": 90,
   "metadata": {},
   "outputs": [
    {
     "data": {
      "text/plain": [
       "MultinomialNB()"
      ]
     },
     "execution_count": 90,
     "metadata": {},
     "output_type": "execute_result"
    }
   ],
   "source": [
    "from sklearn.naive_bayes import MultinomialNB\n",
    "\n",
    "NB_classifier = MultinomialNB()\n",
    "NB_classifier.fit(X_train_indices, y_train_np)"
   ]
  },
  {
   "cell_type": "code",
   "execution_count": 120,
   "metadata": {},
   "outputs": [],
   "source": [
    "nb_test_preds=NB_classifier.predict(X_test_indices)"
   ]
  },
  {
   "cell_type": "code",
   "execution_count": 121,
   "metadata": {},
   "outputs": [
    {
     "name": "stdout",
     "output_type": "stream",
     "text": [
      "Test Accuracy score : 0.409\n"
     ]
    }
   ],
   "source": [
    "print(\"Test Accuracy score : %.3f\" % accuracy_score(y_test.astype('int'),nb_test_preds))"
   ]
  },
  {
   "cell_type": "code",
   "execution_count": null,
   "metadata": {},
   "outputs": [],
   "source": []
  },
  {
   "cell_type": "code",
   "execution_count": 151,
   "metadata": {},
   "outputs": [],
   "source": [
    "file_name = \"nb_clf.pkl\"\n",
    "\n",
    "# save\n",
    "pickle.dump(NB_classifier, open(file_name, \"wb\"))\n",
    "\n",
    "# load\n",
    "nb_model_loaded = pickle.load(open(file_name, \"rb\"))"
   ]
  },
  {
   "cell_type": "code",
   "execution_count": 152,
   "metadata": {},
   "outputs": [
    {
     "name": "stdout",
     "output_type": "stream",
     "text": [
      "Test Accuracy score : 0.409\n"
     ]
    }
   ],
   "source": [
    "nb_test_preds=nb_model_loaded.predict(X_test_indices)\n",
    "print(\"Test Accuracy score : %.3f\" % accuracy_score(y_test.astype('int'),nb_test_preds))"
   ]
  },
  {
   "cell_type": "code",
   "execution_count": null,
   "metadata": {},
   "outputs": [],
   "source": []
  },
  {
   "cell_type": "markdown",
   "metadata": {},
   "source": [
    "### 6. Decision Tree"
   ]
  },
  {
   "cell_type": "code",
   "execution_count": 93,
   "metadata": {},
   "outputs": [],
   "source": [
    "from sklearn.tree import DecisionTreeClassifier\n",
    "dt_clf = DecisionTreeClassifier(random_state=0)"
   ]
  },
  {
   "cell_type": "code",
   "execution_count": 94,
   "metadata": {},
   "outputs": [
    {
     "data": {
      "text/plain": [
       "DecisionTreeClassifier(random_state=0)"
      ]
     },
     "execution_count": 94,
     "metadata": {},
     "output_type": "execute_result"
    }
   ],
   "source": [
    "dt_clf.fit(X_train_indices, y_train_np)"
   ]
  },
  {
   "cell_type": "code",
   "execution_count": 114,
   "metadata": {},
   "outputs": [
    {
     "name": "stdout",
     "output_type": "stream",
     "text": [
      "Test Accuracy score : 0.995\n"
     ]
    }
   ],
   "source": [
    "dt_test_preds=dt_clf.predict(X_test_indices)\n",
    "# dt_test_preds = [np.argmax(pred) for pred in dt_test_preds]\n",
    "print(\"Test Accuracy score : %.3f\" % accuracy_score(y_test.astype('int'),dt_test_preds))"
   ]
  },
  {
   "cell_type": "code",
   "execution_count": 129,
   "metadata": {},
   "outputs": [
    {
     "data": {
      "text/plain": [
       "(100, 10)"
      ]
     },
     "execution_count": 129,
     "metadata": {},
     "output_type": "execute_result"
    }
   ],
   "source": [
    "(df[0:100]).shape"
   ]
  },
  {
   "cell_type": "code",
   "execution_count": 153,
   "metadata": {},
   "outputs": [],
   "source": [
    "file_name = \"dt_clf.pkl\"\n",
    "\n",
    "# save\n",
    "pickle.dump(dt_clf, open(file_name, \"wb\"))\n",
    "\n",
    "# load\n",
    "DT_model_loaded = pickle.load(open(file_name, \"rb\"))"
   ]
  },
  {
   "cell_type": "code",
   "execution_count": 154,
   "metadata": {},
   "outputs": [
    {
     "name": "stdout",
     "output_type": "stream",
     "text": [
      "Test Accuracy score : 0.995\n"
     ]
    }
   ],
   "source": [
    "dt_test_preds=DT_model_loaded.predict(X_test_indices)\n",
    "# dt_test_preds = [np.argmax(pred) for pred in dt_test_preds]\n",
    "print(\"Test Accuracy score : %.3f\" % accuracy_score(y_test.astype('int'),dt_test_preds))"
   ]
  },
  {
   "cell_type": "code",
   "execution_count": null,
   "metadata": {},
   "outputs": [],
   "source": []
  }
 ],
 "metadata": {
  "kernelspec": {
   "display_name": "Python 3",
   "language": "python",
   "name": "python3"
  },
  "language_info": {
   "codemirror_mode": {
    "name": "ipython",
    "version": 3
   },
   "file_extension": ".py",
   "mimetype": "text/x-python",
   "name": "python",
   "nbconvert_exporter": "python",
   "pygments_lexer": "ipython3",
   "version": "3.8.1"
  }
 },
 "nbformat": 4,
 "nbformat_minor": 4
}
